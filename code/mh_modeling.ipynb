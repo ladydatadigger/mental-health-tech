{
 "cells": [
  {
   "cell_type": "code",
   "execution_count": 1,
   "metadata": {},
   "outputs": [],
   "source": [
    "#dependencies\n",
    "import pandas as pd\n",
    "import re\n",
    "import matplotlib.pyplot as plt\n",
    "import numpy as np\n",
    "import warnings\n",
    "warnings.simplefilter('ignore')\n",
    "%matplotlib inline\n",
    "from sklearn.utils import shuffle"
   ]
  },
  {
   "cell_type": "code",
   "execution_count": 2,
   "metadata": {},
   "outputs": [],
   "source": [
    "aggr_encoded = pd.read_csv('../data/agg_encode_non_self_employee.csv')\n",
    "# aggr_encoded = shuffle(aggr_encoded)"
   ]
  },
  {
   "cell_type": "code",
   "execution_count": 4,
   "metadata": {},
   "outputs": [],
   "source": [
    "target_list=[\"treatment\", \"tech_company\", \"wellness_program\"]\n",
    "#14 X values no_employees, benefits,care_options, seek_help, anonymity, leave, supervisor, coworkers, family_history, phys_health_interview, mental_health_interview, obs_consequence, age, gender\n",
    "X = aggr_encoded.drop(target_list, axis=1)\n"
   ]
  },
  {
   "cell_type": "code",
   "execution_count": 5,
   "metadata": {},
   "outputs": [],
   "source": [
    "# y1=Has the employee seek mental health treatment? (treatment)\n",
    "# y2=Is your employer primarily a tech company/organization? (tech_company)\n",
    "# y3=Will the employer bring awareness to mental health in a wellness program? (wellness_program)# Treatment"
   ]
  },
  {
   "cell_type": "code",
   "execution_count": 6,
   "metadata": {},
   "outputs": [
    {
     "name": "stdout",
     "output_type": "stream",
     "text": [
      "(3089, 47) (3089,)\n"
     ]
    }
   ],
   "source": [
    "y1 = aggr_encoded[\"treatment\"]\n",
    "print(X.shape, y1.shape)"
   ]
  },
  {
   "cell_type": "markdown",
   "metadata": {},
   "source": [
    "## Logistic Regression"
   ]
  },
  {
   "cell_type": "code",
   "execution_count": 7,
   "metadata": {},
   "outputs": [],
   "source": [
    "#import train_test_split from sklearn\n",
    "from sklearn.model_selection import train_test_split"
   ]
  },
  {
   "cell_type": "code",
   "execution_count": 8,
   "metadata": {},
   "outputs": [
    {
     "data": {
      "text/html": [
       "<div>\n",
       "<style scoped>\n",
       "    .dataframe tbody tr th:only-of-type {\n",
       "        vertical-align: middle;\n",
       "    }\n",
       "\n",
       "    .dataframe tbody tr th {\n",
       "        vertical-align: top;\n",
       "    }\n",
       "\n",
       "    .dataframe thead th {\n",
       "        text-align: right;\n",
       "    }\n",
       "</style>\n",
       "<table border=\"1\" class=\"dataframe\">\n",
       "  <thead>\n",
       "    <tr style=\"text-align: right;\">\n",
       "      <th></th>\n",
       "      <th>age</th>\n",
       "      <th>no_employees_1-5</th>\n",
       "      <th>no_employees_100-500</th>\n",
       "      <th>no_employees_26-100</th>\n",
       "      <th>no_employees_500-1000</th>\n",
       "      <th>no_employees_6-25</th>\n",
       "      <th>no_employees_More than 1000</th>\n",
       "      <th>benefits_I don't know</th>\n",
       "      <th>benefits_No</th>\n",
       "      <th>benefits_Not eligible for coverage / NA</th>\n",
       "      <th>...</th>\n",
       "      <th>phys_health_interview_Yes</th>\n",
       "      <th>mental_health_interview_Maybe</th>\n",
       "      <th>mental_health_interview_No</th>\n",
       "      <th>mental_health_interview_Yes</th>\n",
       "      <th>obs_consequence_Maybe/Not sure</th>\n",
       "      <th>obs_consequence_No</th>\n",
       "      <th>obs_consequence_Yes</th>\n",
       "      <th>gender_F</th>\n",
       "      <th>gender_M</th>\n",
       "      <th>gender_nonbinary</th>\n",
       "    </tr>\n",
       "  </thead>\n",
       "  <tbody>\n",
       "    <tr>\n",
       "      <th>655</th>\n",
       "      <td>27</td>\n",
       "      <td>1</td>\n",
       "      <td>0</td>\n",
       "      <td>0</td>\n",
       "      <td>0</td>\n",
       "      <td>0</td>\n",
       "      <td>0</td>\n",
       "      <td>1</td>\n",
       "      <td>0</td>\n",
       "      <td>0</td>\n",
       "      <td>...</td>\n",
       "      <td>0</td>\n",
       "      <td>1</td>\n",
       "      <td>0</td>\n",
       "      <td>0</td>\n",
       "      <td>0</td>\n",
       "      <td>1</td>\n",
       "      <td>0</td>\n",
       "      <td>0</td>\n",
       "      <td>1</td>\n",
       "      <td>0</td>\n",
       "    </tr>\n",
       "    <tr>\n",
       "      <th>2390</th>\n",
       "      <td>36</td>\n",
       "      <td>0</td>\n",
       "      <td>1</td>\n",
       "      <td>0</td>\n",
       "      <td>0</td>\n",
       "      <td>0</td>\n",
       "      <td>0</td>\n",
       "      <td>0</td>\n",
       "      <td>0</td>\n",
       "      <td>0</td>\n",
       "      <td>...</td>\n",
       "      <td>0</td>\n",
       "      <td>0</td>\n",
       "      <td>1</td>\n",
       "      <td>0</td>\n",
       "      <td>1</td>\n",
       "      <td>0</td>\n",
       "      <td>0</td>\n",
       "      <td>1</td>\n",
       "      <td>0</td>\n",
       "      <td>0</td>\n",
       "    </tr>\n",
       "    <tr>\n",
       "      <th>1342</th>\n",
       "      <td>34</td>\n",
       "      <td>0</td>\n",
       "      <td>0</td>\n",
       "      <td>0</td>\n",
       "      <td>0</td>\n",
       "      <td>0</td>\n",
       "      <td>1</td>\n",
       "      <td>0</td>\n",
       "      <td>0</td>\n",
       "      <td>0</td>\n",
       "      <td>...</td>\n",
       "      <td>0</td>\n",
       "      <td>0</td>\n",
       "      <td>1</td>\n",
       "      <td>0</td>\n",
       "      <td>0</td>\n",
       "      <td>0</td>\n",
       "      <td>1</td>\n",
       "      <td>0</td>\n",
       "      <td>1</td>\n",
       "      <td>0</td>\n",
       "    </tr>\n",
       "    <tr>\n",
       "      <th>435</th>\n",
       "      <td>29</td>\n",
       "      <td>1</td>\n",
       "      <td>0</td>\n",
       "      <td>0</td>\n",
       "      <td>0</td>\n",
       "      <td>0</td>\n",
       "      <td>0</td>\n",
       "      <td>0</td>\n",
       "      <td>0</td>\n",
       "      <td>0</td>\n",
       "      <td>...</td>\n",
       "      <td>0</td>\n",
       "      <td>1</td>\n",
       "      <td>0</td>\n",
       "      <td>0</td>\n",
       "      <td>0</td>\n",
       "      <td>1</td>\n",
       "      <td>0</td>\n",
       "      <td>0</td>\n",
       "      <td>1</td>\n",
       "      <td>0</td>\n",
       "    </tr>\n",
       "    <tr>\n",
       "      <th>654</th>\n",
       "      <td>20</td>\n",
       "      <td>0</td>\n",
       "      <td>0</td>\n",
       "      <td>0</td>\n",
       "      <td>0</td>\n",
       "      <td>0</td>\n",
       "      <td>1</td>\n",
       "      <td>0</td>\n",
       "      <td>0</td>\n",
       "      <td>0</td>\n",
       "      <td>...</td>\n",
       "      <td>0</td>\n",
       "      <td>0</td>\n",
       "      <td>1</td>\n",
       "      <td>0</td>\n",
       "      <td>0</td>\n",
       "      <td>1</td>\n",
       "      <td>0</td>\n",
       "      <td>1</td>\n",
       "      <td>0</td>\n",
       "      <td>0</td>\n",
       "    </tr>\n",
       "  </tbody>\n",
       "</table>\n",
       "<p>5 rows × 47 columns</p>\n",
       "</div>"
      ],
      "text/plain": [
       "      age  no_employees_1-5  no_employees_100-500  no_employees_26-100  \\\n",
       "655    27                 1                     0                    0   \n",
       "2390   36                 0                     1                    0   \n",
       "1342   34                 0                     0                    0   \n",
       "435    29                 1                     0                    0   \n",
       "654    20                 0                     0                    0   \n",
       "\n",
       "      no_employees_500-1000  no_employees_6-25  no_employees_More than 1000  \\\n",
       "655                       0                  0                            0   \n",
       "2390                      0                  0                            0   \n",
       "1342                      0                  0                            1   \n",
       "435                       0                  0                            0   \n",
       "654                       0                  0                            1   \n",
       "\n",
       "      benefits_I don't know  benefits_No  \\\n",
       "655                       1            0   \n",
       "2390                      0            0   \n",
       "1342                      0            0   \n",
       "435                       0            0   \n",
       "654                       0            0   \n",
       "\n",
       "      benefits_Not eligible for coverage / NA  ...  phys_health_interview_Yes  \\\n",
       "655                                         0  ...                          0   \n",
       "2390                                        0  ...                          0   \n",
       "1342                                        0  ...                          0   \n",
       "435                                         0  ...                          0   \n",
       "654                                         0  ...                          0   \n",
       "\n",
       "      mental_health_interview_Maybe  mental_health_interview_No  \\\n",
       "655                               1                           0   \n",
       "2390                              0                           1   \n",
       "1342                              0                           1   \n",
       "435                               1                           0   \n",
       "654                               0                           1   \n",
       "\n",
       "      mental_health_interview_Yes  obs_consequence_Maybe/Not sure  \\\n",
       "655                             0                               0   \n",
       "2390                            0                               1   \n",
       "1342                            0                               0   \n",
       "435                             0                               0   \n",
       "654                             0                               0   \n",
       "\n",
       "      obs_consequence_No  obs_consequence_Yes  gender_F  gender_M  \\\n",
       "655                    1                    0         0         1   \n",
       "2390                   0                    0         1         0   \n",
       "1342                   0                    1         0         1   \n",
       "435                    1                    0         0         1   \n",
       "654                    1                    0         1         0   \n",
       "\n",
       "      gender_nonbinary  \n",
       "655                  0  \n",
       "2390                 0  \n",
       "1342                 0  \n",
       "435                  0  \n",
       "654                  0  \n",
       "\n",
       "[5 rows x 47 columns]"
      ]
     },
     "execution_count": 8,
     "metadata": {},
     "output_type": "execute_result"
    }
   ],
   "source": [
    "#split data\n",
    "X_train, X_test, y1_train, y1_test = train_test_split(X, y1, random_state=42, stratify=y1)\n",
    "X_train.head()"
   ]
  },
  {
   "cell_type": "code",
   "execution_count": 9,
   "metadata": {},
   "outputs": [
    {
     "data": {
      "text/plain": [
       "LogisticRegression(C=1.0, class_weight=None, dual=False, fit_intercept=True,\n",
       "                   intercept_scaling=1, l1_ratio=None, max_iter=100,\n",
       "                   multi_class='warn', n_jobs=None, penalty='l2',\n",
       "                   random_state=None, solver='warn', tol=0.0001, verbose=0,\n",
       "                   warm_start=False)"
      ]
     },
     "execution_count": 9,
     "metadata": {},
     "output_type": "execute_result"
    }
   ],
   "source": [
    "#import LogisticRegression \n",
    "from sklearn.linear_model import LogisticRegression\n",
    "\n",
    "#assign to classifier\n",
    "classifier = LogisticRegression()\n",
    "classifier\n"
   ]
  },
  {
   "cell_type": "code",
   "execution_count": 10,
   "metadata": {},
   "outputs": [
    {
     "data": {
      "text/plain": [
       "LogisticRegression(C=1.0, class_weight=None, dual=False, fit_intercept=True,\n",
       "                   intercept_scaling=1, l1_ratio=None, max_iter=100,\n",
       "                   multi_class='warn', n_jobs=None, penalty='l2',\n",
       "                   random_state=None, solver='warn', tol=0.0001, verbose=0,\n",
       "                   warm_start=False)"
      ]
     },
     "execution_count": 10,
     "metadata": {},
     "output_type": "execute_result"
    }
   ],
   "source": [
    "#Fit model using the training data\n",
    "classifier.fit(X_train, y1_train)"
   ]
  },
  {
   "cell_type": "code",
   "execution_count": 11,
   "metadata": {},
   "outputs": [
    {
     "name": "stdout",
     "output_type": "stream",
     "text": [
      "Training Data Score: 0.7167530224525043\n",
      "Testing Data Score: 0.7373868046571799\n"
     ]
    }
   ],
   "source": [
    "#Validate the model using the test data\n",
    "treatment_log_reg_train = classifier.score(X_train, y1_train)\n",
    "treatment_log_reg_test = classifier.score(X_test, y1_test)\n",
    "print(f\"Training Data Score: {treatment_log_reg_train}\")\n",
    "print(f\"Testing Data Score: {treatment_log_reg_test}\")\n"
   ]
  },
  {
   "cell_type": "code",
   "execution_count": 12,
   "metadata": {},
   "outputs": [
    {
     "name": "stdout",
     "output_type": "stream",
     "text": [
      "First 30 Predictions:   [1 0 1 1 0 1 1 1 0 1 0 1 1 1 1 1 1 1 1 0 1 0 0 0 0 0 1 1 1 1]\n",
      "First 30 Actual labels: [1, 0, 1, 1, 0, 1, 1, 0, 1, 1, 0, 1, 1, 1, 0, 1, 1, 0, 1, 1, 1, 0, 0, 0, 0, 0, 1, 1, 1, 1]\n"
     ]
    }
   ],
   "source": [
    "#Make predictions\n",
    "predictions = classifier.predict(X_test)\n",
    "print(f\"First 30 Predictions:   {predictions[:30]}\")\n",
    "print(f\"First 30 Actual labels: {y1_test[:30].tolist()}\")\n"
   ]
  },
  {
   "cell_type": "code",
   "execution_count": 13,
   "metadata": {},
   "outputs": [
    {
     "data": {
      "image/png": "[encoded data removed]",
      "text/plain": [
       "<Figure size 432x288 with 1 Axes>"
      ]
     },
     "metadata": {
      "needs_background": "light"
     },
     "output_type": "display_data"
    }
   ],
   "source": [
    "plt.scatter(classifier.predict(X_train), classifier.predict(X_train) - y1_train, c=\"blue\", label=\"Training Data\", s=100)\n",
    "plt.scatter(classifier.predict(X_test), classifier.predict(X_test) - y1_test, c=\"orange\", label=\"Testing Data\")\n",
    "plt.legend()\n",
    "plt.hlines(y=0, xmin=y1_test.min(), xmax=y1_test.max())\n",
    "plt.title(\"Residual Plot\")\n",
    "plt.show()\n"
   ]
  },
  {
   "cell_type": "code",
   "execution_count": 14,
   "metadata": {},
   "outputs": [
    {
     "data": {
      "text/html": [
       "<div>\n",
       "<style scoped>\n",
       "    .dataframe tbody tr th:only-of-type {\n",
       "        vertical-align: middle;\n",
       "    }\n",
       "\n",
       "    .dataframe tbody tr th {\n",
       "        vertical-align: top;\n",
       "    }\n",
       "\n",
       "    .dataframe thead th {\n",
       "        text-align: right;\n",
       "    }\n",
       "</style>\n",
       "<table border=\"1\" class=\"dataframe\">\n",
       "  <thead>\n",
       "    <tr style=\"text-align: right;\">\n",
       "      <th></th>\n",
       "      <th>cols</th>\n",
       "      <th>weights</th>\n",
       "    </tr>\n",
       "  </thead>\n",
       "  <tbody>\n",
       "    <tr>\n",
       "      <th>0</th>\n",
       "      <td>age</td>\n",
       "      <td>0.016374</td>\n",
       "    </tr>\n",
       "    <tr>\n",
       "      <th>1</th>\n",
       "      <td>no_employees_1-5</td>\n",
       "      <td>0.100326</td>\n",
       "    </tr>\n",
       "    <tr>\n",
       "      <th>2</th>\n",
       "      <td>no_employees_100-500</td>\n",
       "      <td>0.045987</td>\n",
       "    </tr>\n",
       "    <tr>\n",
       "      <th>3</th>\n",
       "      <td>no_employees_26-100</td>\n",
       "      <td>-0.045067</td>\n",
       "    </tr>\n",
       "    <tr>\n",
       "      <th>4</th>\n",
       "      <td>no_employees_500-1000</td>\n",
       "      <td>-0.225829</td>\n",
       "    </tr>\n",
       "    <tr>\n",
       "      <th>5</th>\n",
       "      <td>no_employees_6-25</td>\n",
       "      <td>0.061715</td>\n",
       "    </tr>\n",
       "    <tr>\n",
       "      <th>6</th>\n",
       "      <td>no_employees_More than 1000</td>\n",
       "      <td>0.092472</td>\n",
       "    </tr>\n",
       "    <tr>\n",
       "      <th>7</th>\n",
       "      <td>benefits_I don't know</td>\n",
       "      <td>-0.289861</td>\n",
       "    </tr>\n",
       "    <tr>\n",
       "      <th>8</th>\n",
       "      <td>benefits_No</td>\n",
       "      <td>-0.028166</td>\n",
       "    </tr>\n",
       "    <tr>\n",
       "      <th>9</th>\n",
       "      <td>benefits_Not eligible for coverage / NA</td>\n",
       "      <td>0.277216</td>\n",
       "    </tr>\n",
       "    <tr>\n",
       "      <th>10</th>\n",
       "      <td>benefits_Yes</td>\n",
       "      <td>0.070415</td>\n",
       "    </tr>\n",
       "    <tr>\n",
       "      <th>11</th>\n",
       "      <td>care_options_I am not sure</td>\n",
       "      <td>-0.181540</td>\n",
       "    </tr>\n",
       "    <tr>\n",
       "      <th>12</th>\n",
       "      <td>care_options_No</td>\n",
       "      <td>-0.331245</td>\n",
       "    </tr>\n",
       "    <tr>\n",
       "      <th>13</th>\n",
       "      <td>care_options_Yes</td>\n",
       "      <td>0.542388</td>\n",
       "    </tr>\n",
       "    <tr>\n",
       "      <th>14</th>\n",
       "      <td>seek_help_I don't know</td>\n",
       "      <td>0.089756</td>\n",
       "    </tr>\n",
       "    <tr>\n",
       "      <th>15</th>\n",
       "      <td>seek_help_No</td>\n",
       "      <td>-0.001175</td>\n",
       "    </tr>\n",
       "    <tr>\n",
       "      <th>16</th>\n",
       "      <td>seek_help_Yes</td>\n",
       "      <td>-0.058976</td>\n",
       "    </tr>\n",
       "    <tr>\n",
       "      <th>17</th>\n",
       "      <td>anonymity_I don't know</td>\n",
       "      <td>0.086490</td>\n",
       "    </tr>\n",
       "    <tr>\n",
       "      <th>18</th>\n",
       "      <td>anonymity_No</td>\n",
       "      <td>-0.217352</td>\n",
       "    </tr>\n",
       "    <tr>\n",
       "      <th>19</th>\n",
       "      <td>anonymity_Yes</td>\n",
       "      <td>0.160466</td>\n",
       "    </tr>\n",
       "    <tr>\n",
       "      <th>20</th>\n",
       "      <td>leave_Difficult</td>\n",
       "      <td>0.302016</td>\n",
       "    </tr>\n",
       "    <tr>\n",
       "      <th>21</th>\n",
       "      <td>leave_Easy</td>\n",
       "      <td>-0.242586</td>\n",
       "    </tr>\n",
       "    <tr>\n",
       "      <th>22</th>\n",
       "      <td>leave_I don't know</td>\n",
       "      <td>-0.269146</td>\n",
       "    </tr>\n",
       "    <tr>\n",
       "      <th>23</th>\n",
       "      <td>leave_Neither easy nor difficult</td>\n",
       "      <td>0.239320</td>\n",
       "    </tr>\n",
       "    <tr>\n",
       "      <th>24</th>\n",
       "      <td>supervisor_Maybe</td>\n",
       "      <td>-0.074594</td>\n",
       "    </tr>\n",
       "    <tr>\n",
       "      <th>25</th>\n",
       "      <td>supervisor_No</td>\n",
       "      <td>0.191117</td>\n",
       "    </tr>\n",
       "    <tr>\n",
       "      <th>26</th>\n",
       "      <td>supervisor_Some of them</td>\n",
       "      <td>0.092943</td>\n",
       "    </tr>\n",
       "    <tr>\n",
       "      <th>27</th>\n",
       "      <td>supervisor_Yes</td>\n",
       "      <td>-0.179861</td>\n",
       "    </tr>\n",
       "    <tr>\n",
       "      <th>28</th>\n",
       "      <td>coworkers_Maybe</td>\n",
       "      <td>-0.023078</td>\n",
       "    </tr>\n",
       "    <tr>\n",
       "      <th>29</th>\n",
       "      <td>coworkers_No</td>\n",
       "      <td>-0.490158</td>\n",
       "    </tr>\n",
       "    <tr>\n",
       "      <th>30</th>\n",
       "      <td>coworkers_Some of them</td>\n",
       "      <td>0.110907</td>\n",
       "    </tr>\n",
       "    <tr>\n",
       "      <th>31</th>\n",
       "      <td>coworkers_Yes</td>\n",
       "      <td>0.431933</td>\n",
       "    </tr>\n",
       "    <tr>\n",
       "      <th>32</th>\n",
       "      <td>family_history_I don't know</td>\n",
       "      <td>0.156542</td>\n",
       "    </tr>\n",
       "    <tr>\n",
       "      <th>33</th>\n",
       "      <td>family_history_No</td>\n",
       "      <td>-0.856393</td>\n",
       "    </tr>\n",
       "    <tr>\n",
       "      <th>34</th>\n",
       "      <td>family_history_Yes</td>\n",
       "      <td>0.729455</td>\n",
       "    </tr>\n",
       "    <tr>\n",
       "      <th>35</th>\n",
       "      <td>phys_health_interview_Maybe</td>\n",
       "      <td>-0.044884</td>\n",
       "    </tr>\n",
       "    <tr>\n",
       "      <th>36</th>\n",
       "      <td>phys_health_interview_No</td>\n",
       "      <td>-0.138345</td>\n",
       "    </tr>\n",
       "    <tr>\n",
       "      <th>37</th>\n",
       "      <td>phys_health_interview_Yes</td>\n",
       "      <td>0.212833</td>\n",
       "    </tr>\n",
       "    <tr>\n",
       "      <th>38</th>\n",
       "      <td>mental_health_interview_Maybe</td>\n",
       "      <td>-0.131671</td>\n",
       "    </tr>\n",
       "    <tr>\n",
       "      <th>39</th>\n",
       "      <td>mental_health_interview_No</td>\n",
       "      <td>0.216474</td>\n",
       "    </tr>\n",
       "    <tr>\n",
       "      <th>40</th>\n",
       "      <td>mental_health_interview_Yes</td>\n",
       "      <td>-0.055199</td>\n",
       "    </tr>\n",
       "    <tr>\n",
       "      <th>41</th>\n",
       "      <td>obs_consequence_Maybe/Not sure</td>\n",
       "      <td>-0.086546</td>\n",
       "    </tr>\n",
       "    <tr>\n",
       "      <th>42</th>\n",
       "      <td>obs_consequence_No</td>\n",
       "      <td>-0.201118</td>\n",
       "    </tr>\n",
       "    <tr>\n",
       "      <th>43</th>\n",
       "      <td>obs_consequence_Yes</td>\n",
       "      <td>0.317269</td>\n",
       "    </tr>\n",
       "    <tr>\n",
       "      <th>44</th>\n",
       "      <td>gender_F</td>\n",
       "      <td>0.166107</td>\n",
       "    </tr>\n",
       "    <tr>\n",
       "      <th>45</th>\n",
       "      <td>gender_M</td>\n",
       "      <td>-0.374275</td>\n",
       "    </tr>\n",
       "    <tr>\n",
       "      <th>46</th>\n",
       "      <td>gender_nonbinary</td>\n",
       "      <td>0.237772</td>\n",
       "    </tr>\n",
       "  </tbody>\n",
       "</table>\n",
       "</div>"
      ],
      "text/plain": [
       "                                       cols   weights\n",
       "0                                       age  0.016374\n",
       "1                          no_employees_1-5  0.100326\n",
       "2                      no_employees_100-500  0.045987\n",
       "3                       no_employees_26-100 -0.045067\n",
       "4                     no_employees_500-1000 -0.225829\n",
       "5                         no_employees_6-25  0.061715\n",
       "6               no_employees_More than 1000  0.092472\n",
       "7                     benefits_I don't know -0.289861\n",
       "8                               benefits_No -0.028166\n",
       "9   benefits_Not eligible for coverage / NA  0.277216\n",
       "10                             benefits_Yes  0.070415\n",
       "11               care_options_I am not sure -0.181540\n",
       "12                          care_options_No -0.331245\n",
       "13                         care_options_Yes  0.542388\n",
       "14                   seek_help_I don't know  0.089756\n",
       "15                             seek_help_No -0.001175\n",
       "16                            seek_help_Yes -0.058976\n",
       "17                   anonymity_I don't know  0.086490\n",
       "18                             anonymity_No -0.217352\n",
       "19                            anonymity_Yes  0.160466\n",
       "20                          leave_Difficult  0.302016\n",
       "21                               leave_Easy -0.242586\n",
       "22                       leave_I don't know -0.269146\n",
       "23         leave_Neither easy nor difficult  0.239320\n",
       "24                         supervisor_Maybe -0.074594\n",
       "25                            supervisor_No  0.191117\n",
       "26                  supervisor_Some of them  0.092943\n",
       "27                           supervisor_Yes -0.179861\n",
       "28                          coworkers_Maybe -0.023078\n",
       "29                             coworkers_No -0.490158\n",
       "30                   coworkers_Some of them  0.110907\n",
       "31                            coworkers_Yes  0.431933\n",
       "32              family_history_I don't know  0.156542\n",
       "33                        family_history_No -0.856393\n",
       "34                       family_history_Yes  0.729455\n",
       "35              phys_health_interview_Maybe -0.044884\n",
       "36                 phys_health_interview_No -0.138345\n",
       "37                phys_health_interview_Yes  0.212833\n",
       "38            mental_health_interview_Maybe -0.131671\n",
       "39               mental_health_interview_No  0.216474\n",
       "40              mental_health_interview_Yes -0.055199\n",
       "41           obs_consequence_Maybe/Not sure -0.086546\n",
       "42                       obs_consequence_No -0.201118\n",
       "43                      obs_consequence_Yes  0.317269\n",
       "44                                 gender_F  0.166107\n",
       "45                                 gender_M -0.374275\n",
       "46                         gender_nonbinary  0.237772"
      ]
     },
     "execution_count": 14,
     "metadata": {},
     "output_type": "execute_result"
    }
   ],
   "source": [
    "# Look at weights for each column\n",
    "pd.DataFrame({\"cols\": X.columns, \"weights\": classifier.coef_.reshape(-1)})"
   ]
  },
  {
   "cell_type": "markdown",
   "metadata": {},
   "source": [
    "Having a Family history of mental illness has a strong weight to this model"
   ]
  },
  {
   "cell_type": "markdown",
   "metadata": {},
   "source": [
    "## Tree"
   ]
  },
  {
   "cell_type": "code",
   "execution_count": 15,
   "metadata": {},
   "outputs": [
    {
     "data": {
      "text/html": [
       "<div>\n",
       "<style scoped>\n",
       "    .dataframe tbody tr th:only-of-type {\n",
       "        vertical-align: middle;\n",
       "    }\n",
       "\n",
       "    .dataframe tbody tr th {\n",
       "        vertical-align: top;\n",
       "    }\n",
       "\n",
       "    .dataframe thead th {\n",
       "        text-align: right;\n",
       "    }\n",
       "</style>\n",
       "<table border=\"1\" class=\"dataframe\">\n",
       "  <thead>\n",
       "    <tr style=\"text-align: right;\">\n",
       "      <th></th>\n",
       "      <th>age</th>\n",
       "      <th>no_employees_1-5</th>\n",
       "      <th>no_employees_100-500</th>\n",
       "      <th>no_employees_26-100</th>\n",
       "      <th>no_employees_500-1000</th>\n",
       "      <th>no_employees_6-25</th>\n",
       "      <th>no_employees_More than 1000</th>\n",
       "      <th>benefits_I don't know</th>\n",
       "      <th>benefits_No</th>\n",
       "      <th>benefits_Not eligible for coverage / NA</th>\n",
       "      <th>...</th>\n",
       "      <th>phys_health_interview_Yes</th>\n",
       "      <th>mental_health_interview_Maybe</th>\n",
       "      <th>mental_health_interview_No</th>\n",
       "      <th>mental_health_interview_Yes</th>\n",
       "      <th>obs_consequence_Maybe/Not sure</th>\n",
       "      <th>obs_consequence_No</th>\n",
       "      <th>obs_consequence_Yes</th>\n",
       "      <th>gender_F</th>\n",
       "      <th>gender_M</th>\n",
       "      <th>gender_nonbinary</th>\n",
       "    </tr>\n",
       "  </thead>\n",
       "  <tbody>\n",
       "    <tr>\n",
       "      <th>0</th>\n",
       "      <td>37</td>\n",
       "      <td>0</td>\n",
       "      <td>0</td>\n",
       "      <td>0</td>\n",
       "      <td>0</td>\n",
       "      <td>1</td>\n",
       "      <td>0</td>\n",
       "      <td>0</td>\n",
       "      <td>0</td>\n",
       "      <td>0</td>\n",
       "      <td>...</td>\n",
       "      <td>0</td>\n",
       "      <td>0</td>\n",
       "      <td>1</td>\n",
       "      <td>0</td>\n",
       "      <td>0</td>\n",
       "      <td>1</td>\n",
       "      <td>0</td>\n",
       "      <td>1</td>\n",
       "      <td>0</td>\n",
       "      <td>0</td>\n",
       "    </tr>\n",
       "    <tr>\n",
       "      <th>1</th>\n",
       "      <td>44</td>\n",
       "      <td>0</td>\n",
       "      <td>0</td>\n",
       "      <td>0</td>\n",
       "      <td>0</td>\n",
       "      <td>0</td>\n",
       "      <td>1</td>\n",
       "      <td>1</td>\n",
       "      <td>0</td>\n",
       "      <td>0</td>\n",
       "      <td>...</td>\n",
       "      <td>0</td>\n",
       "      <td>0</td>\n",
       "      <td>1</td>\n",
       "      <td>0</td>\n",
       "      <td>0</td>\n",
       "      <td>1</td>\n",
       "      <td>0</td>\n",
       "      <td>0</td>\n",
       "      <td>1</td>\n",
       "      <td>0</td>\n",
       "    </tr>\n",
       "    <tr>\n",
       "      <th>2</th>\n",
       "      <td>32</td>\n",
       "      <td>0</td>\n",
       "      <td>0</td>\n",
       "      <td>0</td>\n",
       "      <td>0</td>\n",
       "      <td>1</td>\n",
       "      <td>0</td>\n",
       "      <td>0</td>\n",
       "      <td>1</td>\n",
       "      <td>0</td>\n",
       "      <td>...</td>\n",
       "      <td>1</td>\n",
       "      <td>0</td>\n",
       "      <td>0</td>\n",
       "      <td>1</td>\n",
       "      <td>0</td>\n",
       "      <td>1</td>\n",
       "      <td>0</td>\n",
       "      <td>0</td>\n",
       "      <td>1</td>\n",
       "      <td>0</td>\n",
       "    </tr>\n",
       "    <tr>\n",
       "      <th>3</th>\n",
       "      <td>31</td>\n",
       "      <td>0</td>\n",
       "      <td>0</td>\n",
       "      <td>1</td>\n",
       "      <td>0</td>\n",
       "      <td>0</td>\n",
       "      <td>0</td>\n",
       "      <td>0</td>\n",
       "      <td>1</td>\n",
       "      <td>0</td>\n",
       "      <td>...</td>\n",
       "      <td>0</td>\n",
       "      <td>1</td>\n",
       "      <td>0</td>\n",
       "      <td>0</td>\n",
       "      <td>0</td>\n",
       "      <td>0</td>\n",
       "      <td>1</td>\n",
       "      <td>0</td>\n",
       "      <td>1</td>\n",
       "      <td>0</td>\n",
       "    </tr>\n",
       "    <tr>\n",
       "      <th>4</th>\n",
       "      <td>31</td>\n",
       "      <td>0</td>\n",
       "      <td>1</td>\n",
       "      <td>0</td>\n",
       "      <td>0</td>\n",
       "      <td>0</td>\n",
       "      <td>0</td>\n",
       "      <td>0</td>\n",
       "      <td>0</td>\n",
       "      <td>0</td>\n",
       "      <td>...</td>\n",
       "      <td>1</td>\n",
       "      <td>0</td>\n",
       "      <td>0</td>\n",
       "      <td>1</td>\n",
       "      <td>0</td>\n",
       "      <td>1</td>\n",
       "      <td>0</td>\n",
       "      <td>0</td>\n",
       "      <td>1</td>\n",
       "      <td>0</td>\n",
       "    </tr>\n",
       "  </tbody>\n",
       "</table>\n",
       "<p>5 rows × 47 columns</p>\n",
       "</div>"
      ],
      "text/plain": [
       "   age  no_employees_1-5  no_employees_100-500  no_employees_26-100  \\\n",
       "0   37                 0                     0                    0   \n",
       "1   44                 0                     0                    0   \n",
       "2   32                 0                     0                    0   \n",
       "3   31                 0                     0                    1   \n",
       "4   31                 0                     1                    0   \n",
       "\n",
       "   no_employees_500-1000  no_employees_6-25  no_employees_More than 1000  \\\n",
       "0                      0                  1                            0   \n",
       "1                      0                  0                            1   \n",
       "2                      0                  1                            0   \n",
       "3                      0                  0                            0   \n",
       "4                      0                  0                            0   \n",
       "\n",
       "   benefits_I don't know  benefits_No  \\\n",
       "0                      0            0   \n",
       "1                      1            0   \n",
       "2                      0            1   \n",
       "3                      0            1   \n",
       "4                      0            0   \n",
       "\n",
       "   benefits_Not eligible for coverage / NA  ...  phys_health_interview_Yes  \\\n",
       "0                                        0  ...                          0   \n",
       "1                                        0  ...                          0   \n",
       "2                                        0  ...                          1   \n",
       "3                                        0  ...                          0   \n",
       "4                                        0  ...                          1   \n",
       "\n",
       "   mental_health_interview_Maybe  mental_health_interview_No  \\\n",
       "0                              0                           1   \n",
       "1                              0                           1   \n",
       "2                              0                           0   \n",
       "3                              1                           0   \n",
       "4                              0                           0   \n",
       "\n",
       "   mental_health_interview_Yes  obs_consequence_Maybe/Not sure  \\\n",
       "0                            0                               0   \n",
       "1                            0                               0   \n",
       "2                            1                               0   \n",
       "3                            0                               0   \n",
       "4                            1                               0   \n",
       "\n",
       "   obs_consequence_No  obs_consequence_Yes  gender_F  gender_M  \\\n",
       "0                   1                    0         1         0   \n",
       "1                   1                    0         0         1   \n",
       "2                   1                    0         0         1   \n",
       "3                   0                    1         0         1   \n",
       "4                   1                    0         0         1   \n",
       "\n",
       "   gender_nonbinary  \n",
       "0                 0  \n",
       "1                 0  \n",
       "2                 0  \n",
       "3                 0  \n",
       "4                 0  \n",
       "\n",
       "[5 rows x 47 columns]"
      ]
     },
     "execution_count": 15,
     "metadata": {},
     "output_type": "execute_result"
    }
   ],
   "source": [
    "#use decision tree model\n",
    "feature_names = X.columns\n",
    "X.head()\n"
   ]
  },
  {
   "cell_type": "code",
   "execution_count": 16,
   "metadata": {},
   "outputs": [],
   "source": [
    "#import decision tree library\n",
    "from sklearn import tree"
   ]
  },
  {
   "cell_type": "code",
   "execution_count": 17,
   "metadata": {},
   "outputs": [
    {
     "name": "stdout",
     "output_type": "stream",
     "text": [
      "Testing Data Score: 0.6416558861578266\n"
     ]
    }
   ],
   "source": [
    "#Decision Tree classifier y1 \n",
    "clf = tree.DecisionTreeClassifier()\n",
    "clf = clf.fit(X_train, y1_train)  \n",
    "clf.score(X_test, y1_test)\n",
    "\n",
    "print(f\"Testing Data Score: {clf.score(X_test, y1_test)}\")"
   ]
  },
  {
   "cell_type": "code",
   "execution_count": 18,
   "metadata": {},
   "outputs": [],
   "source": [
    "#import Random Forest library\n",
    "from sklearn.ensemble import RandomForestClassifier"
   ]
  },
  {
   "cell_type": "code",
   "execution_count": 20,
   "metadata": {},
   "outputs": [
    {
     "name": "stdout",
     "output_type": "stream",
     "text": [
      "Test Data Score: 0.7347994825355757\n"
     ]
    }
   ],
   "source": [
    "#Random Forest classifier y1\n",
    "rf = RandomForestClassifier(n_estimators=200)\n",
    "rf = rf.fit(X_train, y1_train)\n",
    "treatment_rf_test = rf.score(X_test, y1_test) \n",
    "print(f\"Test Data Score: {treatment_rf_test}\")"
   ]
  },
  {
   "cell_type": "code",
   "execution_count": 21,
   "metadata": {},
   "outputs": [
    {
     "name": "stdout",
     "output_type": "stream",
     "text": [
      "Train Data Score: 1.0\n"
     ]
    }
   ],
   "source": [
    "treatment_rf_train = rf.score(X_train, y1_train)\n",
    "print(f\"Train Data Score: {treatment_rf_train}\")"
   ]
  },
  {
   "cell_type": "code",
   "execution_count": 22,
   "metadata": {},
   "outputs": [
    {
     "data": {
      "text/plain": [
       "[(0.12331151905208322, 'age'),\n",
       " (0.06875557016332004, 'family_history_No'),\n",
       " (0.05872005974060267, 'family_history_Yes'),\n",
       " (0.03326609218495224, 'care_options_Yes'),\n",
       " (0.023537334559142583, 'phys_health_interview_Maybe'),\n",
       " (0.023081434078280387, 'care_options_No'),\n",
       " (0.022567792511908494, 'leave_Easy'),\n",
       " (0.022302662550148657, 'obs_consequence_No'),\n",
       " (0.02225520184402664, 'no_employees_26-100'),\n",
       " (0.02166325316040149, 'coworkers_No'),\n",
       " (0.021535943818942548, 'phys_health_interview_No'),\n",
       " (0.02074360287137949, 'no_employees_More than 1000'),\n",
       " (0.020620735798286747, \"leave_I don't know\"),\n",
       " (0.020580908421739874, 'supervisor_Yes'),\n",
       " (0.020328551620987564, 'benefits_Yes'),\n",
       " (0.02023704236321106, 'obs_consequence_Yes'),\n",
       " (0.02020523088843865, 'leave_Difficult'),\n",
       " (0.02017029000867895, 'seek_help_No'),\n",
       " (0.019821014902228748, 'no_employees_100-500'),\n",
       " (0.019492649392392463, 'no_employees_6-25'),\n",
       " (0.019301263985352358, 'supervisor_No'),\n",
       " (0.018746166070049083, \"benefits_I don't know\"),\n",
       " (0.018670156973314655, 'coworkers_Yes'),\n",
       " (0.018297220487273957, \"anonymity_I don't know\"),\n",
       " (0.018105272919301137, \"seek_help_I don't know\"),\n",
       " (0.01809848759200825, 'coworkers_Some of them'),\n",
       " (0.017983153113065493, 'gender_M'),\n",
       " (0.01722654286605616, 'mental_health_interview_No'),\n",
       " (0.017004506832256946, 'mental_health_interview_Maybe'),\n",
       " (0.016814448523197554, 'coworkers_Maybe'),\n",
       " (0.016681842514192614, 'phys_health_interview_Yes'),\n",
       " (0.01666996178695406, 'gender_F'),\n",
       " (0.016446147653943508, 'anonymity_Yes'),\n",
       " (0.016445059171013934, 'seek_help_Yes'),\n",
       " (0.015455535945753914, 'supervisor_Maybe'),\n",
       " (0.015083528931216532, 'care_options_I am not sure'),\n",
       " (0.013242625974817498, 'benefits_No'),\n",
       " (0.01296870271452353, 'supervisor_Some of them'),\n",
       " (0.012079081933556841, 'obs_consequence_Maybe/Not sure'),\n",
       " (0.011374521978302661, \"family_history_I don't know\"),\n",
       " (0.010928431995224374, 'no_employees_1-5'),\n",
       " (0.01092071883749828, 'no_employees_500-1000'),\n",
       " (0.010728550954349271, 'leave_Neither easy nor difficult'),\n",
       " (0.006923275489917616, 'mental_health_interview_Yes'),\n",
       " (0.0065932838312508955, 'anonymity_No'),\n",
       " (0.002179736779962717, 'gender_nonbinary'),\n",
       " (0.0018348842144935618, 'benefits_Not eligible for coverage / NA')]"
      ]
     },
     "execution_count": 22,
     "metadata": {},
     "output_type": "execute_result"
    }
   ],
   "source": [
    "#sort feature importances\n",
    "sorted(zip(rf.feature_importances_, feature_names), reverse=True)"
   ]
  },
  {
   "cell_type": "markdown",
   "metadata": {},
   "source": [
    "Age and family history are important features"
   ]
  },
  {
   "cell_type": "markdown",
   "metadata": {},
   "source": [
    "## KNN"
   ]
  },
  {
   "cell_type": "code",
   "execution_count": 23,
   "metadata": {},
   "outputs": [],
   "source": [
    "#Import KNN\n",
    "from sklearn.neighbors import KNeighborsClassifier"
   ]
  },
  {
   "cell_type": "code",
   "execution_count": 24,
   "metadata": {},
   "outputs": [
    {
     "name": "stdout",
     "output_type": "stream",
     "text": [
      "k: 1, Train/Test Score: 1.000/0.613\n",
      "k: 3, Train/Test Score: 0.803/0.660\n",
      "k: 5, Train/Test Score: 0.772/0.658\n",
      "k: 7, Train/Test Score: 0.746/0.666\n",
      "k: 9, Train/Test Score: 0.739/0.673\n",
      "k: 11, Train/Test Score: 0.730/0.668\n",
      "k: 13, Train/Test Score: 0.732/0.677\n",
      "k: 15, Train/Test Score: 0.725/0.684\n",
      "k: 17, Train/Test Score: 0.721/0.670\n",
      "k: 19, Train/Test Score: 0.715/0.687\n"
     ]
    }
   ],
   "source": [
    "#KNN for y1 Treatment\n",
    "# Loop through different k values to see which has the highest accuracy\n",
    "train_scores = []\n",
    "test_scores = []\n",
    "for k in range(1, 20, 2):\n",
    "    knn = KNeighborsClassifier(n_neighbors=k)\n",
    "    knn.fit(X_train, y1_train)\n",
    "    train_score = knn.score(X_train, y1_train)\n",
    "    test_score = knn.score(X_test, y1_test)\n",
    "    train_scores.append(train_score)\n",
    "    test_scores.append(test_score)\n",
    "    print(f\"k: {k}, Train/Test Score: {train_score:.3f}/{test_score:.3f}\")"
   ]
  },
  {
   "cell_type": "code",
   "execution_count": 25,
   "metadata": {},
   "outputs": [
    {
     "data": {
      "image/png": "[encoded data removed]",
      "text/plain": [
       "<Figure size 432x288 with 1 Axes>"
      ]
     },
     "metadata": {
      "needs_background": "light"
     },
     "output_type": "display_data"
    }
   ],
   "source": [
    "plt.plot(range(1, 20, 2), train_scores, marker='o')\n",
    "plt.plot(range(1, 20, 2), test_scores, marker=\"x\")\n",
    "plt.xlabel(\"k neighbors\")\n",
    "plt.ylabel(\"Testing accuracy Score\")\n",
    "plt.show()"
   ]
  },
  {
   "cell_type": "code",
   "execution_count": 26,
   "metadata": {},
   "outputs": [
    {
     "name": "stdout",
     "output_type": "stream",
     "text": [
      "k=19 Train Acc: 0.715\n",
      "k=19 Test Acc: 0.687\n"
     ]
    }
   ],
   "source": [
    "knn = KNeighborsClassifier(n_neighbors=19)\n",
    "knn.fit(X_train, y1_train)\n",
    "treatment_knn_train = knn.score(X_train, y1_train)\n",
    "treatment_knn_test = knn.score(X_test, y1_test)\n",
    "print('k=19 Train Acc: %.3f' % treatment_knn_train)\n",
    "print('k=19 Test Acc: %.3f' % treatment_knn_test)\n"
   ]
  },
  {
   "cell_type": "code",
   "execution_count": 28,
   "metadata": {},
   "outputs": [],
   "source": [
    "predict = knn.predict(X_test)"
   ]
  },
  {
   "cell_type": "markdown",
   "metadata": {},
   "source": [
    "## SVM"
   ]
  },
  {
   "cell_type": "code",
   "execution_count": 29,
   "metadata": {},
   "outputs": [
    {
     "name": "stdout",
     "output_type": "stream",
     "text": [
      "Training Data Score: 0.6964594127806563\n",
      "Testing Data Score: 0.7166882276843467\n"
     ]
    }
   ],
   "source": [
    "target_names = [\"no\", \"yes\"]\n",
    "\n",
    "# Create a support vector machine linear classifier and fit it to the training data\n",
    "from sklearn.svm import SVC \n",
    "model = SVC(kernel='linear')\n",
    "model.fit(X_train, y1_train)\n",
    "predictions = model.predict(X_test)\n",
    "\n",
    "treatment_svm_train = model.score(X_train, y1_train)\n",
    "treatment_svm_test = model.score(X_test, y1_test)\n",
    "\n",
    "# Print the model score using the test data\n",
    "print(f\"Training Data Score: {treatment_svm_train}\")\n",
    "print(f\"Testing Data Score: {treatment_svm_test}\")"
   ]
  },
  {
   "cell_type": "code",
   "execution_count": 30,
   "metadata": {},
   "outputs": [
    {
     "name": "stdout",
     "output_type": "stream",
     "text": [
      "              precision    recall  f1-score   support\n",
      "\n",
      "          no       0.68      0.67      0.67       336\n",
      "         yes       0.75      0.75      0.75       437\n",
      "\n",
      "    accuracy                           0.72       773\n",
      "   macro avg       0.71      0.71      0.71       773\n",
      "weighted avg       0.72      0.72      0.72       773\n",
      "\n"
     ]
    }
   ],
   "source": [
    "# Calculate the classification report\n",
    "from sklearn.metrics import classification_report\n",
    "print(classification_report(y1_test, predictions,\n",
    "                            target_names=target_names))\n"
   ]
  },
  {
   "cell_type": "markdown",
   "metadata": {},
   "source": [
    "# Tech Company"
   ]
  },
  {
   "cell_type": "code",
   "execution_count": 31,
   "metadata": {},
   "outputs": [
    {
     "name": "stdout",
     "output_type": "stream",
     "text": [
      "(3089, 47) (3089,)\n"
     ]
    }
   ],
   "source": [
    "# Target values is tech_company\n",
    "y2 = aggr_encoded[\"tech_company\"]\n",
    "print(X.shape, y2.shape)"
   ]
  },
  {
   "cell_type": "code",
   "execution_count": 32,
   "metadata": {},
   "outputs": [],
   "source": [
    "#split and train\n",
    "X_train, X_test, y2_train, y2_test = train_test_split(X, y2, random_state=42, stratify=y2)"
   ]
  },
  {
   "cell_type": "markdown",
   "metadata": {},
   "source": [
    "## Logistic Regression"
   ]
  },
  {
   "cell_type": "code",
   "execution_count": 33,
   "metadata": {},
   "outputs": [
    {
     "name": "stdout",
     "output_type": "stream",
     "text": [
      "Training Data Score: 0.7936096718480138\n",
      "Testing Data Score: 0.7878395860284605\n"
     ]
    }
   ],
   "source": [
    "classifier = LogisticRegression()\n",
    "classifier.fit(X_train, y2_train)\n",
    "\n",
    "tech_log_reg_train = classifier.score(X_train, y2_train)\n",
    "tech_log_reg_test = classifier.score(X_test, y2_test)\n",
    "print(f\"Training Data Score: {tech_log_reg_train}\")\n",
    "print(f\"Testing Data Score: {tech_log_reg_test}\")\n"
   ]
  },
  {
   "cell_type": "markdown",
   "metadata": {},
   "source": [
    "Model has an accuracy of 78%"
   ]
  },
  {
   "cell_type": "code",
   "execution_count": 34,
   "metadata": {},
   "outputs": [
    {
     "name": "stdout",
     "output_type": "stream",
     "text": [
      "First 10 Predictions:   [1. 1. 1. 1. 1. 1. 1. 1. 1. 1.]\n",
      "First 10 Actual labels: [1.0, 0.0, 1.0, 1.0, 0.0, 1.0, 1.0, 1.0, 1.0, 1.0]\n"
     ]
    }
   ],
   "source": [
    "#Make predictions\n",
    "predictions = classifier.predict(X_test)\n",
    "print(f\"First 10 Predictions:   {predictions[:10]}\")\n",
    "print(f\"First 10 Actual labels: {y2_test[:10].tolist()}\")\n"
   ]
  },
  {
   "cell_type": "code",
   "execution_count": 35,
   "metadata": {},
   "outputs": [
    {
     "data": {
      "image/png": "[encoded data removed]",
      "text/plain": [
       "<Figure size 432x288 with 1 Axes>"
      ]
     },
     "metadata": {
      "needs_background": "light"
     },
     "output_type": "display_data"
    }
   ],
   "source": [
    "plt.scatter(classifier.predict(X_train), classifier.predict(X_train) - y2_train, c=\"blue\", label=\"Training Data\", s=100)\n",
    "plt.scatter(classifier.predict(X_test), classifier.predict(X_test) - y2_test, c=\"orange\", label=\"Testing Data\")\n",
    "plt.legend()\n",
    "plt.hlines(y=0, xmin=y2_test.min(), xmax=y2_test.max())\n",
    "plt.title(\"Residual Plot\")\n",
    "plt.show()\n"
   ]
  },
  {
   "cell_type": "code",
   "execution_count": 36,
   "metadata": {},
   "outputs": [
    {
     "data": {
      "text/html": [
       "<div>\n",
       "<style scoped>\n",
       "    .dataframe tbody tr th:only-of-type {\n",
       "        vertical-align: middle;\n",
       "    }\n",
       "\n",
       "    .dataframe tbody tr th {\n",
       "        vertical-align: top;\n",
       "    }\n",
       "\n",
       "    .dataframe thead th {\n",
       "        text-align: right;\n",
       "    }\n",
       "</style>\n",
       "<table border=\"1\" class=\"dataframe\">\n",
       "  <thead>\n",
       "    <tr style=\"text-align: right;\">\n",
       "      <th></th>\n",
       "      <th>cols</th>\n",
       "      <th>weights</th>\n",
       "    </tr>\n",
       "  </thead>\n",
       "  <tbody>\n",
       "    <tr>\n",
       "      <th>0</th>\n",
       "      <td>age</td>\n",
       "      <td>-0.016556</td>\n",
       "    </tr>\n",
       "    <tr>\n",
       "      <th>1</th>\n",
       "      <td>no_employees_1-5</td>\n",
       "      <td>0.936406</td>\n",
       "    </tr>\n",
       "    <tr>\n",
       "      <th>2</th>\n",
       "      <td>no_employees_100-500</td>\n",
       "      <td>0.131102</td>\n",
       "    </tr>\n",
       "    <tr>\n",
       "      <th>3</th>\n",
       "      <td>no_employees_26-100</td>\n",
       "      <td>0.219695</td>\n",
       "    </tr>\n",
       "    <tr>\n",
       "      <th>4</th>\n",
       "      <td>no_employees_500-1000</td>\n",
       "      <td>-0.736174</td>\n",
       "    </tr>\n",
       "    <tr>\n",
       "      <th>5</th>\n",
       "      <td>no_employees_6-25</td>\n",
       "      <td>0.614964</td>\n",
       "    </tr>\n",
       "    <tr>\n",
       "      <th>6</th>\n",
       "      <td>no_employees_More than 1000</td>\n",
       "      <td>-0.762944</td>\n",
       "    </tr>\n",
       "    <tr>\n",
       "      <th>7</th>\n",
       "      <td>benefits_I don't know</td>\n",
       "      <td>-0.109468</td>\n",
       "    </tr>\n",
       "    <tr>\n",
       "      <th>8</th>\n",
       "      <td>benefits_No</td>\n",
       "      <td>0.157280</td>\n",
       "    </tr>\n",
       "    <tr>\n",
       "      <th>9</th>\n",
       "      <td>benefits_Not eligible for coverage / NA</td>\n",
       "      <td>0.009713</td>\n",
       "    </tr>\n",
       "    <tr>\n",
       "      <th>10</th>\n",
       "      <td>benefits_Yes</td>\n",
       "      <td>0.345524</td>\n",
       "    </tr>\n",
       "    <tr>\n",
       "      <th>11</th>\n",
       "      <td>care_options_I am not sure</td>\n",
       "      <td>0.224517</td>\n",
       "    </tr>\n",
       "    <tr>\n",
       "      <th>12</th>\n",
       "      <td>care_options_No</td>\n",
       "      <td>0.115612</td>\n",
       "    </tr>\n",
       "    <tr>\n",
       "      <th>13</th>\n",
       "      <td>care_options_Yes</td>\n",
       "      <td>0.062920</td>\n",
       "    </tr>\n",
       "    <tr>\n",
       "      <th>14</th>\n",
       "      <td>seek_help_I don't know</td>\n",
       "      <td>0.361960</td>\n",
       "    </tr>\n",
       "    <tr>\n",
       "      <th>15</th>\n",
       "      <td>seek_help_No</td>\n",
       "      <td>0.111331</td>\n",
       "    </tr>\n",
       "    <tr>\n",
       "      <th>16</th>\n",
       "      <td>seek_help_Yes</td>\n",
       "      <td>-0.070241</td>\n",
       "    </tr>\n",
       "    <tr>\n",
       "      <th>17</th>\n",
       "      <td>anonymity_I don't know</td>\n",
       "      <td>0.262521</td>\n",
       "    </tr>\n",
       "    <tr>\n",
       "      <th>18</th>\n",
       "      <td>anonymity_No</td>\n",
       "      <td>0.112256</td>\n",
       "    </tr>\n",
       "    <tr>\n",
       "      <th>19</th>\n",
       "      <td>anonymity_Yes</td>\n",
       "      <td>0.028273</td>\n",
       "    </tr>\n",
       "    <tr>\n",
       "      <th>20</th>\n",
       "      <td>leave_Difficult</td>\n",
       "      <td>-0.256185</td>\n",
       "    </tr>\n",
       "    <tr>\n",
       "      <th>21</th>\n",
       "      <td>leave_Easy</td>\n",
       "      <td>0.527756</td>\n",
       "    </tr>\n",
       "    <tr>\n",
       "      <th>22</th>\n",
       "      <td>leave_I don't know</td>\n",
       "      <td>0.084260</td>\n",
       "    </tr>\n",
       "    <tr>\n",
       "      <th>23</th>\n",
       "      <td>leave_Neither easy nor difficult</td>\n",
       "      <td>0.047219</td>\n",
       "    </tr>\n",
       "    <tr>\n",
       "      <th>24</th>\n",
       "      <td>supervisor_Maybe</td>\n",
       "      <td>0.074661</td>\n",
       "    </tr>\n",
       "    <tr>\n",
       "      <th>25</th>\n",
       "      <td>supervisor_No</td>\n",
       "      <td>0.153406</td>\n",
       "    </tr>\n",
       "    <tr>\n",
       "      <th>26</th>\n",
       "      <td>supervisor_Some of them</td>\n",
       "      <td>0.123487</td>\n",
       "    </tr>\n",
       "    <tr>\n",
       "      <th>27</th>\n",
       "      <td>supervisor_Yes</td>\n",
       "      <td>0.051495</td>\n",
       "    </tr>\n",
       "    <tr>\n",
       "      <th>28</th>\n",
       "      <td>coworkers_Maybe</td>\n",
       "      <td>0.141421</td>\n",
       "    </tr>\n",
       "    <tr>\n",
       "      <th>29</th>\n",
       "      <td>coworkers_No</td>\n",
       "      <td>-0.196673</td>\n",
       "    </tr>\n",
       "    <tr>\n",
       "      <th>30</th>\n",
       "      <td>coworkers_Some of them</td>\n",
       "      <td>0.085214</td>\n",
       "    </tr>\n",
       "    <tr>\n",
       "      <th>31</th>\n",
       "      <td>coworkers_Yes</td>\n",
       "      <td>0.373087</td>\n",
       "    </tr>\n",
       "    <tr>\n",
       "      <th>32</th>\n",
       "      <td>family_history_I don't know</td>\n",
       "      <td>0.026221</td>\n",
       "    </tr>\n",
       "    <tr>\n",
       "      <th>33</th>\n",
       "      <td>family_history_No</td>\n",
       "      <td>0.281786</td>\n",
       "    </tr>\n",
       "    <tr>\n",
       "      <th>34</th>\n",
       "      <td>family_history_Yes</td>\n",
       "      <td>0.095043</td>\n",
       "    </tr>\n",
       "    <tr>\n",
       "      <th>35</th>\n",
       "      <td>phys_health_interview_Maybe</td>\n",
       "      <td>0.149780</td>\n",
       "    </tr>\n",
       "    <tr>\n",
       "      <th>36</th>\n",
       "      <td>phys_health_interview_No</td>\n",
       "      <td>0.204581</td>\n",
       "    </tr>\n",
       "    <tr>\n",
       "      <th>37</th>\n",
       "      <td>phys_health_interview_Yes</td>\n",
       "      <td>0.048688</td>\n",
       "    </tr>\n",
       "    <tr>\n",
       "      <th>38</th>\n",
       "      <td>mental_health_interview_Maybe</td>\n",
       "      <td>-0.026252</td>\n",
       "    </tr>\n",
       "    <tr>\n",
       "      <th>39</th>\n",
       "      <td>mental_health_interview_No</td>\n",
       "      <td>0.142593</td>\n",
       "    </tr>\n",
       "    <tr>\n",
       "      <th>40</th>\n",
       "      <td>mental_health_interview_Yes</td>\n",
       "      <td>0.286709</td>\n",
       "    </tr>\n",
       "    <tr>\n",
       "      <th>41</th>\n",
       "      <td>obs_consequence_Maybe/Not sure</td>\n",
       "      <td>0.147454</td>\n",
       "    </tr>\n",
       "    <tr>\n",
       "      <th>42</th>\n",
       "      <td>obs_consequence_No</td>\n",
       "      <td>0.165292</td>\n",
       "    </tr>\n",
       "    <tr>\n",
       "      <th>43</th>\n",
       "      <td>obs_consequence_Yes</td>\n",
       "      <td>0.090303</td>\n",
       "    </tr>\n",
       "    <tr>\n",
       "      <th>44</th>\n",
       "      <td>gender_F</td>\n",
       "      <td>-0.103868</td>\n",
       "    </tr>\n",
       "    <tr>\n",
       "      <th>45</th>\n",
       "      <td>gender_M</td>\n",
       "      <td>0.063554</td>\n",
       "    </tr>\n",
       "    <tr>\n",
       "      <th>46</th>\n",
       "      <td>gender_nonbinary</td>\n",
       "      <td>0.443362</td>\n",
       "    </tr>\n",
       "  </tbody>\n",
       "</table>\n",
       "</div>"
      ],
      "text/plain": [
       "                                       cols   weights\n",
       "0                                       age -0.016556\n",
       "1                          no_employees_1-5  0.936406\n",
       "2                      no_employees_100-500  0.131102\n",
       "3                       no_employees_26-100  0.219695\n",
       "4                     no_employees_500-1000 -0.736174\n",
       "5                         no_employees_6-25  0.614964\n",
       "6               no_employees_More than 1000 -0.762944\n",
       "7                     benefits_I don't know -0.109468\n",
       "8                               benefits_No  0.157280\n",
       "9   benefits_Not eligible for coverage / NA  0.009713\n",
       "10                             benefits_Yes  0.345524\n",
       "11               care_options_I am not sure  0.224517\n",
       "12                          care_options_No  0.115612\n",
       "13                         care_options_Yes  0.062920\n",
       "14                   seek_help_I don't know  0.361960\n",
       "15                             seek_help_No  0.111331\n",
       "16                            seek_help_Yes -0.070241\n",
       "17                   anonymity_I don't know  0.262521\n",
       "18                             anonymity_No  0.112256\n",
       "19                            anonymity_Yes  0.028273\n",
       "20                          leave_Difficult -0.256185\n",
       "21                               leave_Easy  0.527756\n",
       "22                       leave_I don't know  0.084260\n",
       "23         leave_Neither easy nor difficult  0.047219\n",
       "24                         supervisor_Maybe  0.074661\n",
       "25                            supervisor_No  0.153406\n",
       "26                  supervisor_Some of them  0.123487\n",
       "27                           supervisor_Yes  0.051495\n",
       "28                          coworkers_Maybe  0.141421\n",
       "29                             coworkers_No -0.196673\n",
       "30                   coworkers_Some of them  0.085214\n",
       "31                            coworkers_Yes  0.373087\n",
       "32              family_history_I don't know  0.026221\n",
       "33                        family_history_No  0.281786\n",
       "34                       family_history_Yes  0.095043\n",
       "35              phys_health_interview_Maybe  0.149780\n",
       "36                 phys_health_interview_No  0.204581\n",
       "37                phys_health_interview_Yes  0.048688\n",
       "38            mental_health_interview_Maybe -0.026252\n",
       "39               mental_health_interview_No  0.142593\n",
       "40              mental_health_interview_Yes  0.286709\n",
       "41           obs_consequence_Maybe/Not sure  0.147454\n",
       "42                       obs_consequence_No  0.165292\n",
       "43                      obs_consequence_Yes  0.090303\n",
       "44                                 gender_F -0.103868\n",
       "45                                 gender_M  0.063554\n",
       "46                         gender_nonbinary  0.443362"
      ]
     },
     "execution_count": 36,
     "metadata": {},
     "output_type": "execute_result"
    }
   ],
   "source": [
    "# Look at weights for each column\n",
    "pd.DataFrame({\"cols\": X.columns, \"weights\": classifier.coef_.reshape(-1)})"
   ]
  },
  {
   "cell_type": "markdown",
   "metadata": {},
   "source": [
    "number of employees (1-5) has a strong weight"
   ]
  },
  {
   "cell_type": "markdown",
   "metadata": {},
   "source": [
    "## Tree"
   ]
  },
  {
   "cell_type": "code",
   "execution_count": 37,
   "metadata": {},
   "outputs": [
    {
     "data": {
      "text/plain": [
       "0.6791720569210866"
      ]
     },
     "execution_count": 37,
     "metadata": {},
     "output_type": "execute_result"
    }
   ],
   "source": [
    "#target is tech_company\n",
    "target_names = [\"no\", \"yes\"]\n",
    "\n",
    "#Decision Tree\n",
    "clf = tree.DecisionTreeClassifier()\n",
    "clf = clf.fit(X_train, y2_train)  \n",
    "clf.score(X_test, y2_test)"
   ]
  },
  {
   "cell_type": "code",
   "execution_count": 38,
   "metadata": {},
   "outputs": [
    {
     "data": {
      "text/plain": [
       "0.9995682210708118"
      ]
     },
     "execution_count": 38,
     "metadata": {},
     "output_type": "execute_result"
    }
   ],
   "source": [
    "#Random Forest\n",
    "rf = RandomForestClassifier(n_estimators=200)\n",
    "rf = rf.fit(X_train, y2_train)\n",
    "tech_rf_train = rf.score(X_train, y2_train)\n",
    "tech_rf_train"
   ]
  },
  {
   "cell_type": "code",
   "execution_count": 39,
   "metadata": {},
   "outputs": [
    {
     "name": "stdout",
     "output_type": "stream",
     "text": [
      "Testing Data Score: 0.7800776196636481\n"
     ]
    }
   ],
   "source": [
    "tech_rf_test = rf.score(X_test, y2_test)\n",
    "print(f\"Testing Data Score: {tech_rf_test}\")"
   ]
  },
  {
   "cell_type": "code",
   "execution_count": 40,
   "metadata": {},
   "outputs": [
    {
     "data": {
      "text/plain": [
       "[(0.1465766574560209, 'age'),\n",
       " (0.038965300978943566, 'no_employees_More than 1000'),\n",
       " (0.026548236577555357, 'phys_health_interview_Maybe'),\n",
       " (0.024864013081769186, 'family_history_Yes'),\n",
       " (0.023628954103232905, 'phys_health_interview_No'),\n",
       " (0.023605521984763712, 'family_history_No'),\n",
       " (0.022827563901889524, 'obs_consequence_No'),\n",
       " (0.02260906193231382, 'care_options_No'),\n",
       " (0.02237854698095382, 'leave_Easy'),\n",
       " (0.021902363925615047, \"anonymity_I don't know\"),\n",
       " (0.021473041605400183, 'supervisor_Yes'),\n",
       " (0.021442501491261097, 'coworkers_No'),\n",
       " (0.021190229404110715, 'anonymity_Yes'),\n",
       " (0.02093280344835482, 'gender_F'),\n",
       " (0.02090083003657085, 'seek_help_No'),\n",
       " (0.020856343803325173, 'benefits_Yes'),\n",
       " (0.020824342741623782, 'care_options_Yes'),\n",
       " (0.020759821078971178, 'leave_Difficult'),\n",
       " (0.020265251376362387, 'supervisor_No'),\n",
       " (0.02018459853116552, 'gender_M'),\n",
       " (0.020073868218585034, 'coworkers_Maybe'),\n",
       " (0.020006349450902405, 'obs_consequence_Yes'),\n",
       " (0.019942399898974762, \"seek_help_I don't know\"),\n",
       " (0.01990115236904887, 'phys_health_interview_Yes'),\n",
       " (0.019747236746968867, 'seek_help_Yes'),\n",
       " (0.019695342465571045, \"benefits_I don't know\"),\n",
       " (0.019228848091866573, 'care_options_I am not sure'),\n",
       " (0.019029264423862352, \"leave_I don't know\"),\n",
       " (0.01852538464566049, 'supervisor_Maybe'),\n",
       " (0.018347994379918374, 'no_employees_26-100'),\n",
       " (0.018212403491532216, 'mental_health_interview_No'),\n",
       " (0.018100484822438086, 'coworkers_Yes'),\n",
       " (0.018073806888138887, 'mental_health_interview_Maybe'),\n",
       " (0.017894026777109332, 'no_employees_100-500'),\n",
       " (0.01717809832273704, 'no_employees_500-1000'),\n",
       " (0.016638999002904754, 'coworkers_Some of them'),\n",
       " (0.016568394910002334, 'obs_consequence_Maybe/Not sure'),\n",
       " (0.016105657133304113, \"family_history_I don't know\"),\n",
       " (0.015513460644104035, 'no_employees_6-25'),\n",
       " (0.014123605885659293, 'benefits_No'),\n",
       " (0.01348065906132698, 'leave_Neither easy nor difficult'),\n",
       " (0.012324193070493518, 'supervisor_Some of them'),\n",
       " (0.009574137710909713, 'anonymity_No'),\n",
       " (0.006582943151017234, 'no_employees_1-5'),\n",
       " (0.005727848315983327, 'mental_health_interview_Yes'),\n",
       " (0.0035030740274173814, 'benefits_Not eligible for coverage / NA'),\n",
       " (0.003164381653359555, 'gender_nonbinary')]"
      ]
     },
     "execution_count": 40,
     "metadata": {},
     "output_type": "execute_result"
    }
   ],
   "source": [
    "sorted(zip(rf.feature_importances_, feature_names), reverse=True)\n"
   ]
  },
  {
   "cell_type": "markdown",
   "metadata": {},
   "source": [
    "## KNN"
   ]
  },
  {
   "cell_type": "code",
   "execution_count": 41,
   "metadata": {},
   "outputs": [
    {
     "name": "stdout",
     "output_type": "stream",
     "text": [
      "k: 1, Train/Test Score: 1.000/0.680\n",
      "k: 3, Train/Test Score: 0.846/0.732\n",
      "k: 5, Train/Test Score: 0.822/0.765\n",
      "k: 7, Train/Test Score: 0.801/0.766\n",
      "k: 9, Train/Test Score: 0.799/0.779\n",
      "k: 11, Train/Test Score: 0.791/0.781\n",
      "k: 13, Train/Test Score: 0.788/0.771\n",
      "k: 15, Train/Test Score: 0.788/0.777\n",
      "k: 17, Train/Test Score: 0.790/0.779\n",
      "k: 19, Train/Test Score: 0.788/0.781\n"
     ]
    }
   ],
   "source": [
    "# Loop through different k values to see which has the highest accuracy\n",
    "train_scores = []\n",
    "test_scores = []\n",
    "for k in range(1, 20, 2):\n",
    "    knn = KNeighborsClassifier(n_neighbors=k)\n",
    "    knn.fit(X_train, y2_train)\n",
    "    train_score = knn.score(X_train, y2_train)\n",
    "    test_score = knn.score(X_test, y2_test)\n",
    "    train_scores.append(train_score)\n",
    "    test_scores.append(test_score)\n",
    "    print(f\"k: {k}, Train/Test Score: {train_score:.3f}/{test_score:.3f}\")\n",
    "    \n"
   ]
  },
  {
   "cell_type": "code",
   "execution_count": 42,
   "metadata": {},
   "outputs": [
    {
     "data": {
      "image/png": "[encoded data removed]",
      "text/plain": [
       "<Figure size 432x288 with 1 Axes>"
      ]
     },
     "metadata": {
      "needs_background": "light"
     },
     "output_type": "display_data"
    }
   ],
   "source": [
    "plt.plot(range(1, 20, 2), train_scores, marker='o')\n",
    "plt.plot(range(1, 20, 2), test_scores, marker=\"x\")\n",
    "plt.xlabel(\"k neighbors\")\n",
    "plt.ylabel(\"Testing accuracy Score\")\n",
    "plt.show()\n"
   ]
  },
  {
   "cell_type": "code",
   "execution_count": 43,
   "metadata": {},
   "outputs": [
    {
     "name": "stdout",
     "output_type": "stream",
     "text": [
      "k=10 Test Acc: 0.799\n",
      "k=10 Train Acc: 0.765\n"
     ]
    }
   ],
   "source": [
    "knn = KNeighborsClassifier(n_neighbors=10)\n",
    "knn.fit(X_train, y2_train)\n",
    "\n",
    "tech_knn_train = knn.score(X_train, y2_train)\n",
    "tech_knn_test = knn.score(X_test, y2_test)\n",
    "\n",
    "print('k=10 Test Acc: %.3f' % tech_knn_train)\n",
    "print('k=10 Train Acc: %.3f' % tech_knn_test)"
   ]
  },
  {
   "cell_type": "markdown",
   "metadata": {},
   "source": [
    "## SVM"
   ]
  },
  {
   "cell_type": "code",
   "execution_count": 44,
   "metadata": {},
   "outputs": [
    {
     "name": "stdout",
     "output_type": "stream",
     "text": [
      "Training Data Score: 0.7854058721934369\n",
      "Testing Data Score: 0.7852522639068564\n"
     ]
    }
   ],
   "source": [
    "target_names = [\"no\", \"yes\"]\n",
    "\n",
    "# Create a support vector machine linear classifier and fit it to the training data\n",
    "model = SVC(kernel='linear')\n",
    "model.fit(X_train, y2_train)\n",
    "predictions = model.predict(X_test)\n",
    "\n",
    "tech_svm_train = model.score(X_train, y2_train)\n",
    "tech_svm_test = model.score(X_test, y2_test)\n",
    "\n",
    "print(f\"Training Data Score: {tech_svm_train}\")\n",
    "# Print the model score using the test data\n",
    "print(f\"Testing Data Score: {tech_svm_test}\")\n"
   ]
  },
  {
   "cell_type": "code",
   "execution_count": 45,
   "metadata": {},
   "outputs": [
    {
     "name": "stdout",
     "output_type": "stream",
     "text": [
      "              precision    recall  f1-score   support\n",
      "\n",
      "          no       0.00      0.00      0.00       166\n",
      "         yes       0.79      1.00      0.88       607\n",
      "\n",
      "    accuracy                           0.79       773\n",
      "   macro avg       0.39      0.50      0.44       773\n",
      "weighted avg       0.62      0.79      0.69       773\n",
      "\n"
     ]
    }
   ],
   "source": [
    "# Calculate the classification report\n",
    "print(classification_report(y2_test, predictions,\n",
    "                            target_names=target_names))"
   ]
  },
  {
   "cell_type": "markdown",
   "metadata": {},
   "source": [
    "# Wellness Program"
   ]
  },
  {
   "cell_type": "code",
   "execution_count": 46,
   "metadata": {},
   "outputs": [
    {
     "name": "stdout",
     "output_type": "stream",
     "text": [
      "(3089, 47) (3089,)\n"
     ]
    }
   ],
   "source": [
    "# Target values is wellness_program\n",
    "y3 = aggr_encoded[\"wellness_program\"]\n",
    "print(X.shape, y3.shape)"
   ]
  },
  {
   "cell_type": "code",
   "execution_count": 47,
   "metadata": {},
   "outputs": [],
   "source": [
    "#split data\n",
    "X_train, X_test, y3_train, y3_test = train_test_split(X, y3, random_state=42, stratify=y3)"
   ]
  },
  {
   "cell_type": "markdown",
   "metadata": {},
   "source": [
    "## Logistic Regression"
   ]
  },
  {
   "cell_type": "code",
   "execution_count": 48,
   "metadata": {},
   "outputs": [
    {
     "name": "stdout",
     "output_type": "stream",
     "text": [
      "Training Data Score: 0.7612262521588946\n",
      "Testing Data Score: 0.7451487710219923\n"
     ]
    }
   ],
   "source": [
    "classifier = LogisticRegression()\n",
    "classifier.fit(X_train, y3_train)\n",
    "\n",
    "wellness_log_reg_train = classifier.score(X_train, y3_train)\n",
    "wellness_log_reg_test = classifier.score(X_test, y3_test)\n",
    "\n",
    "print(f\"Training Data Score: {wellness_log_reg_train}\")\n",
    "print(f\"Testing Data Score: {wellness_log_reg_test}\")\n"
   ]
  },
  {
   "cell_type": "markdown",
   "metadata": {},
   "source": [
    "75% Accuracy "
   ]
  },
  {
   "cell_type": "code",
   "execution_count": 49,
   "metadata": {},
   "outputs": [
    {
     "name": "stdout",
     "output_type": "stream",
     "text": [
      "First 10 Predictions:   [0 1 0 0 0 1 0 0 0 2]\n",
      "First 10 Actual labels: [0, 2, 2, 2, 1, 1, 0, 1, 0, 2]\n"
     ]
    }
   ],
   "source": [
    "#Make predictions\n",
    "predictions = classifier.predict(X_test)\n",
    "print(f\"First 10 Predictions:   {predictions[:10]}\")\n",
    "print(f\"First 10 Actual labels: {y3_test[:10].tolist()}\")"
   ]
  },
  {
   "cell_type": "code",
   "execution_count": 50,
   "metadata": {},
   "outputs": [
    {
     "data": {
      "image/png": "[encoded data removed]",
      "text/plain": [
       "<Figure size 432x288 with 1 Axes>"
      ]
     },
     "metadata": {
      "needs_background": "light"
     },
     "output_type": "display_data"
    }
   ],
   "source": [
    "plt.scatter(classifier.predict(X_train), classifier.predict(X_train) - y3_train, c=\"blue\", label=\"Training Data\", s=100)\n",
    "plt.scatter(classifier.predict(X_test), classifier.predict(X_test) - y3_test, c=\"orange\", label=\"Testing Data\")\n",
    "plt.legend()\n",
    "plt.hlines(y=0, xmin=y3_test.min(), xmax=y3_test.max())\n",
    "plt.title(\"Residual Plot\")\n",
    "plt.show()\n",
    "\n"
   ]
  },
  {
   "cell_type": "markdown",
   "metadata": {},
   "source": [
    "## Tree"
   ]
  },
  {
   "cell_type": "code",
   "execution_count": 51,
   "metadata": {},
   "outputs": [
    {
     "data": {
      "text/plain": [
       "0.6274256144890039"
      ]
     },
     "execution_count": 51,
     "metadata": {},
     "output_type": "execute_result"
    }
   ],
   "source": [
    "#target is wellness_program\n",
    "target_names = [\"no\", \"yes\", \"I don't know\"]\n",
    "\n",
    "#Decision Tree\n",
    "clf = tree.DecisionTreeClassifier()\n",
    "clf = clf.fit(X_train, y3_train)  \n",
    "clf.score(X_test, y3_test)"
   ]
  },
  {
   "cell_type": "code",
   "execution_count": 52,
   "metadata": {},
   "outputs": [
    {
     "data": {
      "text/plain": [
       "1.0"
      ]
     },
     "execution_count": 52,
     "metadata": {},
     "output_type": "execute_result"
    }
   ],
   "source": [
    "#Random Forest\n",
    "from sklearn.ensemble import RandomForestClassifier\n",
    "rf = RandomForestClassifier(n_estimators=200)\n",
    "rf = rf.fit(X_train, y3_train)\n",
    "wellness_rf_train = rf.score(X_train, y3_train) \n",
    "wellness_rf_train"
   ]
  },
  {
   "cell_type": "code",
   "execution_count": 53,
   "metadata": {},
   "outputs": [
    {
     "name": "stdout",
     "output_type": "stream",
     "text": [
      "Testing Data Score: 0.7399741267787839\n"
     ]
    }
   ],
   "source": [
    "wellness_rf_test = rf.score(X_test, y3_test)\n",
    "print(f\"Testing Data Score: {wellness_rf_test}\")"
   ]
  },
  {
   "cell_type": "code",
   "execution_count": 54,
   "metadata": {},
   "outputs": [
    {
     "data": {
      "text/plain": [
       "[(0.10819581323267752, 'age'),\n",
       " (0.09595038903146261, 'seek_help_Yes'),\n",
       " (0.07675886177330546, 'seek_help_No'),\n",
       " (0.030400916466339946, \"seek_help_I don't know\"),\n",
       " (0.02800604014368826, 'no_employees_More than 1000'),\n",
       " (0.026418660270600722, 'benefits_Yes'),\n",
       " (0.022661010444257577, 'phys_health_interview_Maybe'),\n",
       " (0.021643471305393368, 'leave_Easy'),\n",
       " (0.020936502349268422, 'family_history_No'),\n",
       " (0.02091260943916603, 'family_history_Yes'),\n",
       " (0.020680920784252484, 'care_options_No'),\n",
       " (0.020546786368815288, 'anonymity_Yes'),\n",
       " (0.020427947162615666, 'supervisor_Yes'),\n",
       " (0.020292249984867734, 'phys_health_interview_No'),\n",
       " (0.019908487528202533, 'no_employees_100-500'),\n",
       " (0.01937532586127547, 'care_options_Yes'),\n",
       " (0.01888443121027135, 'coworkers_Yes'),\n",
       " (0.01883356926338418, 'coworkers_Maybe'),\n",
       " (0.018619066364944554, 'obs_consequence_No'),\n",
       " (0.018110697768242236, 'gender_M'),\n",
       " (0.017870825607973147, \"leave_I don't know\"),\n",
       " (0.01767260696400095, 'gender_F'),\n",
       " (0.01759031980216733, 'care_options_I am not sure'),\n",
       " (0.017478058389545068, 'coworkers_Some of them'),\n",
       " (0.017437537603862664, 'supervisor_No'),\n",
       " (0.017202896130176667, 'no_employees_26-100'),\n",
       " (0.016872473007683093, 'obs_consequence_Yes'),\n",
       " (0.016850792059949674, \"anonymity_I don't know\"),\n",
       " (0.015853102251346337, 'mental_health_interview_No'),\n",
       " (0.015626389446631236, 'mental_health_interview_Maybe'),\n",
       " (0.015615787482264163, 'coworkers_No'),\n",
       " (0.01545182924352349, 'leave_Difficult'),\n",
       " (0.015331673994076143, 'phys_health_interview_Yes'),\n",
       " (0.015255742527917478, 'obs_consequence_Maybe/Not sure'),\n",
       " (0.01484834006472383, 'no_employees_6-25'),\n",
       " (0.014293383460476823, 'supervisor_Maybe'),\n",
       " (0.01337676058218352, \"family_history_I don't know\"),\n",
       " (0.013031166093497021, \"benefits_I don't know\"),\n",
       " (0.01123833693584203, 'supervisor_Some of them'),\n",
       " (0.010683470109924821, 'benefits_No'),\n",
       " (0.010602492418645556, 'leave_Neither easy nor difficult'),\n",
       " (0.010422337351438504, 'no_employees_500-1000'),\n",
       " (0.006186762170518048, 'mental_health_interview_Yes'),\n",
       " (0.005979106851632633, 'no_employees_1-5'),\n",
       " (0.004003580675303216, 'anonymity_No'),\n",
       " (0.0033099458248786106, 'gender_nonbinary'),\n",
       " (0.0023505261967864967, 'benefits_Not eligible for coverage / NA')]"
      ]
     },
     "execution_count": 54,
     "metadata": {},
     "output_type": "execute_result"
    }
   ],
   "source": [
    "sorted(zip(rf.feature_importances_, feature_names), reverse=True)"
   ]
  },
  {
   "cell_type": "markdown",
   "metadata": {},
   "source": [
    "## KNN"
   ]
  },
  {
   "cell_type": "code",
   "execution_count": 55,
   "metadata": {},
   "outputs": [
    {
     "name": "stdout",
     "output_type": "stream",
     "text": [
      "k: 1, Train/Test Score: 1.000/0.625\n",
      "k: 3, Train/Test Score: 0.816/0.674\n",
      "k: 5, Train/Test Score: 0.777/0.684\n",
      "k: 7, Train/Test Score: 0.769/0.693\n",
      "k: 9, Train/Test Score: 0.768/0.697\n",
      "k: 11, Train/Test Score: 0.755/0.708\n",
      "k: 13, Train/Test Score: 0.753/0.712\n",
      "k: 15, Train/Test Score: 0.749/0.708\n",
      "k: 17, Train/Test Score: 0.742/0.712\n",
      "k: 19, Train/Test Score: 0.737/0.712\n"
     ]
    }
   ],
   "source": [
    "# Loop through different k values to see which has the highest accuracy\n",
    "train_scores = []\n",
    "test_scores = []\n",
    "for k in range(1, 20, 2):\n",
    "    knn = KNeighborsClassifier(n_neighbors=k)\n",
    "    knn.fit(X_train, y3_train)\n",
    "    train_score = knn.score(X_train, y3_train)\n",
    "    test_score = knn.score(X_test, y3_test)\n",
    "    train_scores.append(train_score)\n",
    "    test_scores.append(test_score)\n",
    "    print(f\"k: {k}, Train/Test Score: {train_score:.3f}/{test_score:.3f}\")\n",
    "    \n"
   ]
  },
  {
   "cell_type": "code",
   "execution_count": 56,
   "metadata": {},
   "outputs": [
    {
     "data": {
      "image/png": "[encoded data removed]",
      "text/plain": [
       "<Figure size 432x288 with 1 Axes>"
      ]
     },
     "metadata": {
      "needs_background": "light"
     },
     "output_type": "display_data"
    }
   ],
   "source": [
    "plt.plot(range(1, 20, 2), train_scores, marker='o')\n",
    "plt.plot(range(1, 20, 2), test_scores, marker=\"x\")\n",
    "plt.xlabel(\"k neighbors\")\n",
    "plt.ylabel(\"Testing accuracy Score\")\n",
    "plt.show()"
   ]
  },
  {
   "cell_type": "code",
   "execution_count": 57,
   "metadata": {},
   "outputs": [
    {
     "name": "stdout",
     "output_type": "stream",
     "text": [
      "k=19 Test Acc: 0.712\n",
      "k=19 Train Acc: 0.737\n"
     ]
    }
   ],
   "source": [
    "knn = KNeighborsClassifier(n_neighbors=19)\n",
    "knn.fit(X_train, y3_train)\n",
    "\n",
    "wellness_knn_train = knn.score(X_train, y3_train)\n",
    "wellness_knn_test = knn.score(X_test, y3_test)\n",
    "\n",
    "print('k=19 Test Acc: %.3f' % wellness_knn_test)\n",
    "print('k=19 Train Acc: %.3f' % wellness_knn_train)\n"
   ]
  },
  {
   "cell_type": "markdown",
   "metadata": {},
   "source": [
    "# SVM"
   ]
  },
  {
   "cell_type": "code",
   "execution_count": 58,
   "metadata": {},
   "outputs": [
    {
     "name": "stdout",
     "output_type": "stream",
     "text": [
      "Testing Data Score: 0.7296248382923674\n",
      "Training Data Score: 0.7478411053540587\n"
     ]
    }
   ],
   "source": [
    "target_names = [\"no\", \"yes\", \"I don't know\"]\n",
    "\n",
    "# Create a support vector machine linear classifier and fit it to the training data\n",
    "model = SVC(kernel='linear')\n",
    "model.fit(X_train, y3_train)\n",
    "predictions = model.predict(X_test)\n",
    "\n",
    "wellness_svm_train = model.score(X_train, y3_train)\n",
    "wellness_svm_test = model.score(X_test, y3_test)\n",
    "\n",
    "# Print the model score using the test data\n",
    "print(f\"Testing Data Score: {wellness_svm_test}\")\n",
    "print(f\"Training Data Score: {wellness_svm_train}\")"
   ]
  },
  {
   "cell_type": "code",
   "execution_count": 59,
   "metadata": {},
   "outputs": [
    {
     "name": "stdout",
     "output_type": "stream",
     "text": [
      "              precision    recall  f1-score   support\n",
      "\n",
      "          no       0.79      0.89      0.84       515\n",
      "         yes       0.55      0.63      0.59       167\n",
      "I don't know       0.00      0.00      0.00        91\n",
      "\n",
      "    accuracy                           0.73       773\n",
      "   macro avg       0.45      0.51      0.48       773\n",
      "weighted avg       0.64      0.73      0.68       773\n",
      "\n"
     ]
    }
   ],
   "source": [
    "# Calculate the classification report\n",
    "print(classification_report(y3_test, predictions,\n",
    "                            target_names=target_names))"
   ]
  },
  {
   "cell_type": "markdown",
   "metadata": {},
   "source": [
    "# Deep Neural Network"
   ]
  },
  {
   "cell_type": "code",
   "execution_count": 60,
   "metadata": {},
   "outputs": [
    {
     "name": "stderr",
     "output_type": "stream",
     "text": [
      "Using TensorFlow backend.\n"
     ]
    }
   ],
   "source": [
    "#preprocess data\n",
    "from sklearn.preprocessing import MinMaxScaler\n",
    "X_scaler = MinMaxScaler().fit(X_train)\n",
    "\n",
    "X_train_scaled = X_scaler.transform(X_train)\n",
    "X_test_scaled = X_scaler.transform(X_test)\n",
    "\n",
    "import tensorflow as tf\n",
    "from keras.models import Sequential\n",
    "from keras.utils import to_categorical\n",
    "from keras.layers import Dense\n",
    "from sklearn.preprocessing import LabelEncoder\n",
    "from keras.callbacks import EarlyStopping\n"
   ]
  },
  {
   "cell_type": "code",
   "execution_count": 61,
   "metadata": {},
   "outputs": [],
   "source": [
    "from tensorflow.python.keras import backend as k"
   ]
  },
  {
   "cell_type": "markdown",
   "metadata": {},
   "source": [
    "## Treatment"
   ]
  },
  {
   "cell_type": "code",
   "execution_count": 62,
   "metadata": {},
   "outputs": [
    {
     "data": {
      "text/plain": [
       "(2316, 2)"
      ]
     },
     "execution_count": 62,
     "metadata": {},
     "output_type": "execute_result"
    }
   ],
   "source": [
    "label_encoder = LabelEncoder()\n",
    "label_encoder.fit(y1_train)\n",
    "encoded_y_train = label_encoder.transform(y1_train)\n",
    "encoded_y_test = label_encoder.transform(y1_test)\n",
    "\n",
    "y_train_categorical = to_categorical(encoded_y_train)\n",
    "y_test_categorical = to_categorical(encoded_y_test)\n",
    "\n",
    "y_train_categorical.shape"
   ]
  },
  {
   "cell_type": "code",
   "execution_count": 63,
   "metadata": {},
   "outputs": [
    {
     "name": "stdout",
     "output_type": "stream",
     "text": [
      "WARNING:tensorflow:From /Users/michellelee/anaconda3/lib/python3.7/site-packages/keras/backend/tensorflow_backend.py:74: The name tf.get_default_graph is deprecated. Please use tf.compat.v1.get_default_graph instead.\n",
      "\n",
      "WARNING:tensorflow:From /Users/michellelee/anaconda3/lib/python3.7/site-packages/keras/backend/tensorflow_backend.py:517: The name tf.placeholder is deprecated. Please use tf.compat.v1.placeholder instead.\n",
      "\n",
      "WARNING:tensorflow:From /Users/michellelee/anaconda3/lib/python3.7/site-packages/keras/backend/tensorflow_backend.py:4138: The name tf.random_uniform is deprecated. Please use tf.random.uniform instead.\n",
      "\n"
     ]
    }
   ],
   "source": [
    "model = Sequential()\n",
    "model.add(Dense(units=100, activation='relu', input_dim=47))\n",
    "model.add(Dense(units=100, activation='relu'))\n",
    "model.add(Dense(units=100, activation='relu'))\n",
    "model.add(Dense(units=100, activation='relu'))\n",
    "model.add(Dense(units=2, activation='softmax'))"
   ]
  },
  {
   "cell_type": "code",
   "execution_count": 64,
   "metadata": {},
   "outputs": [
    {
     "name": "stdout",
     "output_type": "stream",
     "text": [
      "WARNING:tensorflow:From /Users/michellelee/anaconda3/lib/python3.7/site-packages/keras/optimizers.py:790: The name tf.train.Optimizer is deprecated. Please use tf.compat.v1.train.Optimizer instead.\n",
      "\n",
      "WARNING:tensorflow:From /Users/michellelee/anaconda3/lib/python3.7/site-packages/keras/backend/tensorflow_backend.py:3295: The name tf.log is deprecated. Please use tf.math.log instead.\n",
      "\n"
     ]
    }
   ],
   "source": [
    "# Compile and fit the model\n",
    "model.compile(optimizer='adam',\n",
    "              loss='categorical_crossentropy',\n",
    "              metrics=['accuracy'])"
   ]
  },
  {
   "cell_type": "code",
   "execution_count": 65,
   "metadata": {},
   "outputs": [
    {
     "name": "stdout",
     "output_type": "stream",
     "text": [
      "WARNING:tensorflow:From /Users/michellelee/anaconda3/lib/python3.7/site-packages/tensorflow/python/ops/math_grad.py:1250: add_dispatch_support.<locals>.wrapper (from tensorflow.python.ops.array_ops) is deprecated and will be removed in a future version.\n",
      "Instructions for updating:\n",
      "Use tf.where in 2.0, which has the same broadcast rule as np.where\n",
      "WARNING:tensorflow:From /Users/michellelee/anaconda3/lib/python3.7/site-packages/keras/backend/tensorflow_backend.py:986: The name tf.assign_add is deprecated. Please use tf.compat.v1.assign_add instead.\n",
      "\n",
      "Epoch 1/60\n",
      " - 2s - loss: 0.6902 - acc: 0.5553\n",
      "Epoch 2/60\n",
      " - 0s - loss: 0.6799 - acc: 0.5738\n",
      "Epoch 3/60\n",
      " - 0s - loss: 0.6684 - acc: 0.5855\n",
      "Epoch 4/60\n",
      " - 0s - loss: 0.6542 - acc: 0.6149\n",
      "Epoch 5/60\n",
      " - 0s - loss: 0.6285 - acc: 0.6481\n",
      "Epoch 6/60\n",
      " - 0s - loss: 0.5990 - acc: 0.6826\n",
      "Epoch 7/60\n",
      " - 0s - loss: 0.5513 - acc: 0.7150\n",
      "Epoch 8/60\n",
      " - 0s - loss: 0.5052 - acc: 0.7461\n",
      "Epoch 9/60\n",
      " - 0s - loss: 0.4412 - acc: 0.7932\n",
      "Epoch 10/60\n",
      " - 0s - loss: 0.4075 - acc: 0.8182\n",
      "Epoch 11/60\n",
      " - 0s - loss: 0.3470 - acc: 0.8510\n",
      "Epoch 12/60\n",
      " - 0s - loss: 0.3066 - acc: 0.8674\n",
      "Epoch 13/60\n",
      " - 0s - loss: 0.2545 - acc: 0.9007\n",
      "Epoch 14/60\n",
      " - 0s - loss: 0.2206 - acc: 0.9093\n",
      "Epoch 15/60\n",
      " - 0s - loss: 0.1851 - acc: 0.9296\n",
      "Epoch 16/60\n",
      " - 0s - loss: 0.1561 - acc: 0.9408\n",
      "Epoch 17/60\n",
      " - 0s - loss: 0.1398 - acc: 0.9456\n",
      "Epoch 18/60\n",
      " - 0s - loss: 0.1189 - acc: 0.9594\n",
      "Epoch 19/60\n",
      " - 0s - loss: 0.1043 - acc: 0.9637\n",
      "Epoch 20/60\n",
      " - 0s - loss: 0.0968 - acc: 0.9672\n",
      "Epoch 21/60\n",
      " - 0s - loss: 0.0909 - acc: 0.9689\n",
      "Epoch 22/60\n",
      " - 0s - loss: 0.0931 - acc: 0.9706\n",
      "Epoch 23/60\n",
      " - 0s - loss: 0.0723 - acc: 0.9758\n",
      "Epoch 24/60\n",
      " - 0s - loss: 0.0830 - acc: 0.9706\n",
      "Epoch 25/60\n",
      " - 0s - loss: 0.0754 - acc: 0.9737\n",
      "Epoch 26/60\n",
      " - 0s - loss: 0.0828 - acc: 0.9724\n",
      "Epoch 27/60\n",
      " - 0s - loss: 0.0637 - acc: 0.9784\n",
      "Epoch 28/60\n",
      " - 0s - loss: 0.0639 - acc: 0.9763\n",
      "Epoch 29/60\n",
      " - 0s - loss: 0.0624 - acc: 0.9814\n",
      "Epoch 30/60\n",
      " - 0s - loss: 0.0494 - acc: 0.9823\n",
      "Epoch 31/60\n",
      " - 0s - loss: 0.0599 - acc: 0.9797\n",
      "Epoch 32/60\n",
      " - 0s - loss: 0.0487 - acc: 0.9845\n",
      "Epoch 33/60\n",
      " - 0s - loss: 0.0464 - acc: 0.9823\n",
      "Epoch 34/60\n",
      " - 0s - loss: 0.0816 - acc: 0.9698\n",
      "Epoch 35/60\n",
      " - 0s - loss: 0.0657 - acc: 0.9775\n",
      "Epoch 36/60\n",
      " - 0s - loss: 0.0563 - acc: 0.9806\n",
      "Epoch 37/60\n",
      " - 0s - loss: 0.0644 - acc: 0.9754\n",
      "Epoch 38/60\n",
      " - 0s - loss: 0.0743 - acc: 0.9732\n",
      "Epoch 39/60\n",
      " - 0s - loss: 0.0788 - acc: 0.9728\n",
      "Epoch 40/60\n",
      " - 0s - loss: 0.0660 - acc: 0.9758\n",
      "Epoch 41/60\n",
      " - 0s - loss: 0.0586 - acc: 0.9784\n",
      "Epoch 42/60\n",
      " - 0s - loss: 0.0477 - acc: 0.9806\n",
      "Epoch 43/60\n",
      " - 0s - loss: 0.0388 - acc: 0.9853\n",
      "Epoch 44/60\n",
      " - 0s - loss: 0.0416 - acc: 0.9832\n",
      "Epoch 45/60\n",
      " - 0s - loss: 0.0356 - acc: 0.9849\n",
      "Epoch 46/60\n",
      " - 0s - loss: 0.0371 - acc: 0.9845\n",
      "Epoch 47/60\n",
      " - 0s - loss: 0.0549 - acc: 0.9793\n",
      "Epoch 48/60\n",
      " - 0s - loss: 0.0453 - acc: 0.9814\n",
      "Epoch 49/60\n",
      " - 0s - loss: 0.0412 - acc: 0.9823\n",
      "Epoch 50/60\n",
      " - 0s - loss: 0.0416 - acc: 0.9836\n",
      "Epoch 51/60\n",
      " - 0s - loss: 0.0344 - acc: 0.9827\n",
      "Epoch 52/60\n",
      " - 0s - loss: 0.0320 - acc: 0.9845\n",
      "Epoch 53/60\n",
      " - 0s - loss: 0.0300 - acc: 0.9849\n",
      "Epoch 54/60\n",
      " - 0s - loss: 0.0272 - acc: 0.9866\n",
      "Epoch 55/60\n",
      " - 0s - loss: 0.0299 - acc: 0.9849\n",
      "Epoch 56/60\n",
      " - 0s - loss: 0.0341 - acc: 0.9845\n",
      "Epoch 57/60\n",
      " - 0s - loss: 0.0377 - acc: 0.9836\n",
      "Epoch 58/60\n",
      " - 0s - loss: 0.0834 - acc: 0.9680\n",
      "Epoch 59/60\n",
      " - 0s - loss: 0.1397 - acc: 0.9465\n",
      "Epoch 60/60\n",
      " - 0s - loss: 0.1034 - acc: 0.9573\n"
     ]
    },
    {
     "data": {
      "text/plain": [
       "<keras.callbacks.History at 0x1a437cfac8>"
      ]
     },
     "execution_count": 65,
     "metadata": {},
     "output_type": "execute_result"
    }
   ],
   "source": [
    "# set early stopping as callback\n",
    "callbacks = [EarlyStopping(monitor='val_loss', patience=2)]\n",
    "model.fit(\n",
    "    X_train_scaled,\n",
    "    y_train_categorical,\n",
    "    callbacks=callbacks,\n",
    "    epochs=60,\n",
    "    shuffle=True,\n",
    "    verbose=2)"
   ]
  },
  {
   "cell_type": "code",
   "execution_count": 66,
   "metadata": {},
   "outputs": [
    {
     "name": "stdout",
     "output_type": "stream",
     "text": [
      "Train Loss: 0.07146443783053051, Train Accuracy: 0.9753886010362695\n"
     ]
    }
   ],
   "source": [
    "# Evaluate the model using the training data\n",
    "treatment_dl_loss_train, treatment_dl_train = model.evaluate(\n",
    "    X_train_scaled, y_train_categorical, verbose=2)\n",
    "print(f\"Train Loss: {treatment_dl_loss_train}, Train Accuracy: {treatment_dl_train}\")"
   ]
  },
  {
   "cell_type": "code",
   "execution_count": 67,
   "metadata": {},
   "outputs": [
    {
     "name": "stdout",
     "output_type": "stream",
     "text": [
      "Test Loss: 2.699314417845219, Test Accuracy: 0.47736093143596375\n"
     ]
    }
   ],
   "source": [
    "# Evaluate the model using the testing data\n",
    "treatment_dl_loss_test, treatment_dl_test = model.evaluate(\n",
    "    X_test_scaled, y_test_categorical, verbose=2)\n",
    "print(f\"Test Loss: {treatment_dl_loss_test}, Test Accuracy: {treatment_dl_test}\")"
   ]
  },
  {
   "cell_type": "code",
   "execution_count": 68,
   "metadata": {},
   "outputs": [
    {
     "data": {
      "text/plain": [
       "array([0, 0, 0, 0, 1, 0, 0, 1, 1, 0, 1, 1, 1, 0, 0, 1, 0, 1, 0, 0, 1, 0,\n",
       "       0, 1, 1, 1, 1, 1, 1, 1, 1, 0, 0, 1, 0, 0, 1, 1, 1, 1, 1, 0, 1, 1,\n",
       "       0, 0, 0, 1, 1, 0, 1, 1, 0, 0, 1, 0, 1, 1, 1, 1, 0, 1, 0, 0, 0, 0,\n",
       "       1, 1, 1, 1, 0, 1, 1, 1, 1, 1, 1, 0, 1, 1, 1, 0, 1, 1, 1, 1, 1, 0,\n",
       "       1, 0, 0, 1, 0, 1, 1, 0, 0, 0, 0, 1, 1, 0, 1, 0, 1, 1, 1, 0, 0, 1,\n",
       "       1, 1, 0, 1, 0, 0, 0, 0, 1, 0, 0, 0, 0, 0, 1, 0, 1, 0, 1, 1, 0, 0,\n",
       "       0, 0, 0, 1, 0, 1, 1, 1, 0, 0, 1, 1, 0, 0, 0, 0, 1, 1, 1, 0, 1, 0,\n",
       "       1, 1, 1, 0, 1, 1, 0, 0, 0, 1, 0, 0, 1, 1, 1, 1, 0, 1, 0, 0, 0, 0,\n",
       "       0, 0, 1, 1, 0, 1, 0, 1, 1, 0, 0, 0, 1, 1, 1, 1, 0, 0, 1, 1, 1, 0,\n",
       "       0, 1, 1, 0, 1, 1, 0, 0, 1, 1, 1, 1, 1, 1, 1, 1, 1, 0, 0, 0, 0, 0,\n",
       "       0, 1, 1, 0, 1, 1, 0, 0, 1, 1, 0, 1, 0, 1, 1, 1, 1, 0, 0, 1, 0, 0,\n",
       "       1, 1, 1, 0, 0, 0, 1, 1, 0, 1, 1, 1, 0, 0, 1, 1, 1, 1, 1, 0, 0, 0,\n",
       "       0, 0, 1, 0, 0, 1, 1, 1, 1, 0, 0, 0, 0, 0, 0, 0, 0, 0, 1, 0, 1, 1,\n",
       "       1, 0, 1, 1, 0, 0, 1, 0, 0, 1, 1, 1, 1, 1, 1, 1, 0, 0, 1, 0, 0, 0,\n",
       "       1, 0, 0, 1, 0, 1, 0, 1, 0, 1, 0, 1, 1, 1, 1, 1, 0, 0, 0, 0, 1, 0,\n",
       "       0, 1, 1, 0, 1, 1, 0, 0, 1, 0, 0, 0, 0, 1, 0, 1, 1, 1, 1, 1, 1, 0,\n",
       "       0, 1, 1, 0, 1, 0, 0, 1, 1, 0, 0, 1, 1, 1, 0, 0, 0, 0, 1, 1, 0, 0,\n",
       "       0, 0, 1, 1, 0, 0, 0, 1, 1, 0, 1, 0, 1, 0, 1, 1, 1, 1, 1, 1, 0, 1,\n",
       "       0, 1, 0, 0, 1, 0, 1, 0, 1, 1, 0, 1, 0, 0, 1, 1, 0, 1, 0, 1, 0, 1,\n",
       "       0, 0, 0, 0, 0, 0, 1, 1, 0, 1, 1, 1, 0, 0, 0, 0, 1, 0, 1, 0, 1, 1,\n",
       "       1, 1, 0, 1, 0, 1, 0, 1, 0, 0, 1, 0, 1, 1, 0, 1, 1, 0, 0, 0, 0, 0,\n",
       "       1, 1, 0, 0, 0, 0, 1, 0, 0, 0, 1, 1, 1, 1, 1, 1, 0, 1, 1, 1, 0, 0,\n",
       "       1, 0, 0, 1, 0, 1, 0, 1, 0, 1, 0, 0, 0, 1, 0, 1, 0, 1, 1, 1, 1, 1,\n",
       "       1, 0, 0, 0, 1, 1, 0, 0, 0, 1, 1, 1, 0, 1, 0, 1, 1, 1, 0, 0, 0, 1,\n",
       "       1, 1, 1, 1, 0, 0, 0, 1, 1, 1, 1, 1, 0, 0, 1, 1, 0, 0, 0, 0, 0, 1,\n",
       "       0, 1, 1, 1, 0, 1, 0, 1, 0, 0, 0, 0, 1, 1, 0, 0, 1, 1, 1, 0, 1, 1,\n",
       "       0, 1, 1, 0, 1, 1, 0, 0, 0, 1, 0, 1, 0, 1, 1, 0, 0, 0, 1, 0, 1, 0,\n",
       "       0, 0, 1, 1, 0, 1, 1, 0, 0, 1, 1, 1, 0, 0, 0, 1, 0, 0, 0, 0, 1, 1,\n",
       "       1, 1, 0, 1, 1, 1, 0, 0, 1, 1, 1, 1, 1, 1, 0, 1, 0, 0, 1, 1, 0, 1,\n",
       "       1, 0, 0, 0, 1, 0, 1, 1, 0, 0, 1, 0, 1, 1, 1, 0, 0, 1, 0, 0, 1, 0,\n",
       "       1, 1, 1, 0, 0, 0, 1, 1, 1, 1, 0, 1, 0, 1, 1, 1, 0, 0, 1, 1, 1, 1,\n",
       "       1, 1, 0, 0, 1, 0, 0, 0, 1, 0, 1, 1, 1, 0, 1, 0, 1, 1, 0, 1, 0, 1,\n",
       "       0, 0, 0, 0, 1, 1, 0, 1, 0, 1, 1, 0, 1, 1, 1, 0, 1, 1, 1, 1, 1, 0,\n",
       "       0, 0, 1, 0, 1, 1, 1, 1, 1, 0, 0, 0, 1, 0, 0, 0, 0, 0, 1, 1, 1, 0,\n",
       "       1, 0, 0, 0, 0, 0, 0, 1, 1, 1, 1, 0, 0, 1, 0, 1, 1, 0, 1, 1, 1, 0,\n",
       "       1, 0, 0])"
      ]
     },
     "execution_count": 68,
     "metadata": {},
     "output_type": "execute_result"
    }
   ],
   "source": [
    "X_train, X_test, y_train, y_test = train_test_split(X, y1, test_size=0.25, random_state=1)\n",
    "\n",
    "\n",
    "model = KNeighborsClassifier()\n",
    "model.fit(X_train, y_train)\n",
    "\n",
    "y_predict = model.predict(X_test)\n",
    "y_predict\n",
    "\n"
   ]
  },
  {
   "cell_type": "code",
   "execution_count": 69,
   "metadata": {},
   "outputs": [
    {
     "data": {
      "text/plain": [
       "array([[207, 118],\n",
       "       [161, 287]])"
      ]
     },
     "execution_count": 69,
     "metadata": {},
     "output_type": "execute_result"
    }
   ],
   "source": [
    "from sklearn.metrics import confusion_matrix\n",
    "\n",
    "confusion_matrix(y_test, y_predict)"
   ]
  },
  {
   "cell_type": "code",
   "execution_count": 70,
   "metadata": {},
   "outputs": [
    {
     "data": {
      "image/png": "[encoded data removed]",
      "text/plain": [
       "<Figure size 432x288 with 1 Axes>"
      ]
     },
     "metadata": {
      "needs_background": "light"
     },
     "output_type": "display_data"
    },
    {
     "data": {
      "text/plain": [
       "array([0.6, 0.8, 0.8, 0.6, 0.4, 0.8, 0.6, 0.4, 0.4, 1. , 0. , 0.4, 0.4,\n",
       "       0.6, 0.6, 0.4, 0.6, 0.4, 0.6, 0.6, 0.4, 1. , 0.6, 0. , 0.4, 0.4,\n",
       "       0.4, 0.2, 0.4, 0.4, 0.4, 0.8, 0.8, 0.2, 0.8, 0.6, 0.2, 0.2, 0.4,\n",
       "       0.2, 0.2, 0.6, 0.4, 0. , 0.6, 1. , 0.8, 0.4, 0.4, 0.6, 0.2, 0.4,\n",
       "       0.6, 0.8, 0.2, 0.8, 0.2, 0.2, 0.2, 0.4, 1. , 0.2, 1. , 1. , 0.6,\n",
       "       0.6, 0.2, 0.4, 0.4, 0.2, 0.6, 0.4, 0.2, 0. , 0.4, 0.4, 0.4, 0.6,\n",
       "       0.4, 0. , 0.4, 0.6, 0.4, 0. , 0. , 0.2, 0.2, 0.6, 0. , 0.6, 0.8,\n",
       "       0.2, 0.8, 0. , 0.2, 0.6, 1. , 0.6, 0.6, 0.4, 0.4, 0.8, 0.4, 0.8,\n",
       "       0.4, 0.4, 0.2, 1. , 0.8, 0. , 0.2, 0.2, 0.6, 0.2, 1. , 0.6, 1. ,\n",
       "       0.6, 0. , 0.6, 0.8, 0.8, 0.8, 0.6, 0.4, 1. , 0.4, 0.6, 0.4, 0.4,\n",
       "       0.6, 1. , 0.6, 1. , 0.6, 0.2, 1. , 0. , 0.4, 0.4, 0.6, 0.6, 0. ,\n",
       "       0.4, 1. , 0.6, 0.6, 0.8, 0.2, 0.2, 0.4, 0.6, 0.2, 0.8, 0.4, 0. ,\n",
       "       0.4, 0.6, 0. , 0.2, 0.6, 0.8, 0.6, 0.4, 0.6, 0.8, 0.4, 0.4, 0.4,\n",
       "       0.2, 0.6, 0.4, 0.6, 0.8, 0.8, 0.6, 0.6, 1. , 0.2, 0.4, 0.6, 0.4,\n",
       "       0.6, 0.2, 0. , 0.8, 0.6, 0.8, 0. , 0. , 0.2, 0.2, 0.6, 0.6, 0.4,\n",
       "       0.4, 0. , 0.8, 0.6, 0.4, 0. , 0.8, 0.4, 0.4, 0.8, 1. , 0.4, 0.2,\n",
       "       0.2, 0.4, 0.4, 0.4, 0. , 0.2, 0.2, 0.8, 1. , 0.6, 0.6, 0.6, 0.6,\n",
       "       0.4, 0.2, 0.8, 0.2, 0.4, 0.8, 0.6, 0.4, 0.2, 0.8, 0.4, 0.8, 0.2,\n",
       "       0.2, 0.2, 0.2, 0.8, 0.8, 0.2, 0.8, 0.6, 0.4, 0. , 0.4, 0.6, 0.6,\n",
       "       1. , 0.2, 0.4, 0.6, 0.4, 0.2, 0.2, 0.8, 0.6, 0.2, 0.4, 0. , 0.2,\n",
       "       0.4, 0.8, 0.8, 0.8, 0.6, 0.8, 0.4, 0.6, 1. , 0.4, 0.4, 0.4, 0.2,\n",
       "       0.6, 0.6, 0.6, 0.8, 0.6, 0.8, 1. , 0.6, 0.6, 0.4, 0.8, 0.2, 0.4,\n",
       "       0. , 0.8, 0.4, 0.2, 0.6, 0.8, 0. , 0.8, 0.6, 0.4, 0.2, 0. , 0.4,\n",
       "       0.4, 0.2, 0.4, 0.6, 0.8, 0.4, 0.8, 0.8, 1. , 0.2, 0.8, 1. , 0.2,\n",
       "       0.6, 0.4, 0.8, 0.4, 0.8, 0.4, 0.8, 0.2, 0.4, 0.2, 0.2, 0.2, 0.8,\n",
       "       0.8, 0.6, 0.6, 0.4, 0.6, 0.6, 0.4, 0.4, 0.6, 0. , 0.2, 0.8, 0.8,\n",
       "       0. , 0.6, 0.6, 1. , 0.6, 0. , 0.6, 0. , 0.2, 0.2, 0.2, 0.2, 0.2,\n",
       "       0.8, 1. , 0. , 0.2, 0.8, 0.2, 0.6, 0.6, 0.4, 0.4, 0.8, 0.8, 0.2,\n",
       "       0.2, 0. , 0.8, 0.6, 0.6, 0.6, 0. , 0.2, 0.6, 0.8, 1. , 0.6, 0.4,\n",
       "       0.4, 1. , 0.6, 0.6, 0.4, 0.4, 0.8, 0.4, 0.6, 0.2, 0.6, 0.2, 0.4,\n",
       "       0.4, 0. , 0.2, 0.4, 1. , 0.4, 0.6, 0.4, 0.6, 0.6, 0.4, 0.8, 0.4,\n",
       "       0.6, 0.4, 0. , 0.6, 0. , 0.6, 0.8, 0.4, 0.4, 0.8, 0. , 0.8, 0. ,\n",
       "       0.6, 0. , 1. , 0.6, 0.6, 0.8, 0.6, 0.8, 0.4, 0. , 0.8, 0. , 0.4,\n",
       "       0. , 0.6, 0.6, 0.8, 0.6, 0.2, 0.6, 0.4, 0.6, 0.2, 0.2, 0.4, 0.2,\n",
       "       0.8, 0.4, 0.6, 0.2, 0.6, 0.2, 0.8, 0.8, 0.2, 0.8, 0. , 0.4, 1. ,\n",
       "       0.2, 0.4, 1. , 0.8, 0.6, 0.6, 0.8, 0.2, 0.4, 0.6, 0.8, 0.6, 0.8,\n",
       "       0.4, 0.8, 0.6, 1. , 0.4, 0.2, 0. , 0. , 0.4, 0.2, 0.6, 0. , 0.2,\n",
       "       0.2, 0.6, 0.6, 0.2, 1. , 0.6, 0. , 1. , 0.4, 0.6, 0.4, 0.6, 0.2,\n",
       "       0.6, 0.8, 1. , 0.2, 0.8, 0.2, 0.6, 0.4, 0.4, 0.4, 0. , 0.2, 0.4,\n",
       "       0.6, 1. , 0.6, 0. , 0.4, 0.6, 0.8, 0.8, 0.2, 0. , 0.4, 1. , 0.2,\n",
       "       1. , 0.4, 0.2, 0.2, 0.6, 0.8, 0.8, 0.4, 0.4, 0.2, 0. , 0. , 0.6,\n",
       "       0.6, 0.6, 0. , 0.2, 0. , 0.4, 0.2, 0.6, 0.8, 0.2, 0.4, 0.8, 0.8,\n",
       "       1. , 1. , 0.8, 0.2, 0.6, 0.4, 0.4, 0. , 0.6, 0.4, 0.8, 0.2, 0.6,\n",
       "       0.6, 0.8, 0.6, 0.2, 0. , 0.8, 0.8, 0.2, 0.2, 0.4, 0.8, 0.2, 0.2,\n",
       "       0.6, 0.2, 0.2, 0.8, 0.2, 0. , 0.8, 0.8, 0.6, 0.2, 0.8, 0.4, 1. ,\n",
       "       0.2, 0.4, 0.8, 0.8, 0.6, 0.4, 0.6, 0.2, 0.6, 1. , 0.8, 0.4, 0.4,\n",
       "       0.6, 0.2, 0.2, 0.6, 0.8, 0.2, 0. , 0.4, 0.6, 0.8, 0.6, 0.2, 1. ,\n",
       "       0.6, 0.8, 0.6, 0.2, 0.2, 0.2, 0. , 0.6, 0. , 0.4, 0.2, 0.6, 0.6,\n",
       "       0. , 0.2, 0.2, 0. , 0. , 0. , 0.6, 0. , 0.8, 0.6, 0.2, 0.4, 0.8,\n",
       "       0.4, 0.4, 0.6, 0.8, 0.6, 0.2, 0.8, 0. , 0.2, 0.6, 0.6, 0.4, 0.8,\n",
       "       0.2, 0.4, 0.2, 0.8, 0.8, 0.4, 0.6, 0.6, 0.2, 0.6, 0.4, 0.2, 0.4,\n",
       "       1. , 0.6, 0.6, 0.4, 0.2, 0. , 0.2, 0.6, 0.2, 0.6, 0.4, 0. , 0.4,\n",
       "       0.8, 0.8, 0.4, 0.2, 0. , 0.2, 0.4, 0.2, 0.8, 0.6, 0.2, 0.8, 0.6,\n",
       "       0.8, 0. , 0.8, 0.4, 0.2, 0.4, 0.8, 0.4, 0.6, 0.2, 0.4, 0.8, 0.2,\n",
       "       0.8, 0.4, 1. , 0.6, 0.6, 0.8, 0.4, 0.4, 0.8, 0.2, 1. , 0.4, 0. ,\n",
       "       0.6, 0. , 0.4, 0.2, 0.6, 0.4, 0.4, 0.2, 0.4, 0.4, 0.6, 0.6, 0.8,\n",
       "       0.4, 0.6, 0. , 0.4, 0.2, 0.2, 0.2, 0.6, 0.8, 0.8, 0.2, 0.6, 0.6,\n",
       "       1. , 1. , 0.8, 0.2, 0.4, 0.4, 1. , 0. , 0.8, 0.8, 0.6, 0.8, 0.6,\n",
       "       0.6, 0. , 0.4, 0.4, 0.4, 0.8, 0.6, 0.2, 1. , 0. , 0.4, 0.8, 0.2,\n",
       "       0.4, 0. , 0.6, 0.2, 0.8, 1. ])"
      ]
     },
     "execution_count": 70,
     "metadata": {},
     "output_type": "execute_result"
    }
   ],
   "source": [
    "from sklearn.metrics import roc_curve, auc\n",
    "import matplotlib.pyplot as plt\n",
    "plt.style.use('ggplot')\n",
    "%matplotlib inline\n",
    "\n",
    "y_predict_probabilities = model.predict_proba(X_test)[:,0]\n",
    "\n",
    "fpr, tpr, _ = roc_curve(y_test, y_predict_probabilities)\n",
    "roc_auc = auc(fpr, tpr)\n",
    "\n",
    "plt.figure()\n",
    "plt.plot(fpr, tpr, color='darkorange',\n",
    "         lw=2, label='ROC curve (area = %0.2f)' % roc_auc)\n",
    "plt.plot([0, 1], [0, 1], color='navy', lw=2, linestyle='--')\n",
    "plt.xlim([0.0, 1.0])\n",
    "plt.ylim([0.0, 1.05])\n",
    "plt.xlabel('False Positive Rate')\n",
    "plt.ylabel('True Positive Rate')\n",
    "plt.title('ROC Curve')\n",
    "plt.legend(loc=\"lower right\")\n",
    "plt.show()\n",
    "y_predict_probabilities"
   ]
  },
  {
   "cell_type": "markdown",
   "metadata": {},
   "source": [
    "## Tech Company"
   ]
  },
  {
   "cell_type": "code",
   "execution_count": 71,
   "metadata": {},
   "outputs": [
    {
     "data": {
      "text/plain": [
       "(2316, 2)"
      ]
     },
     "execution_count": 71,
     "metadata": {},
     "output_type": "execute_result"
    }
   ],
   "source": [
    "label_encoder = LabelEncoder()\n",
    "label_encoder.fit(y2_train)\n",
    "encoded_y_train = label_encoder.transform(y2_train)\n",
    "encoded_y_test = label_encoder.transform(y2_test)\n",
    "\n",
    "y_train_categorical = to_categorical(encoded_y_train)\n",
    "y_test_categorical = to_categorical(encoded_y_test)\n",
    "\n",
    "y_train_categorical.shape"
   ]
  },
  {
   "cell_type": "code",
   "execution_count": 72,
   "metadata": {},
   "outputs": [],
   "source": [
    "model = Sequential()\n",
    "model.add(Dense(units=100, activation='relu', input_dim=47))\n",
    "model.add(Dense(units=100, activation='relu'))\n",
    "model.add(Dense(units=100, activation='relu'))\n",
    "model.add(Dense(units=100, activation='relu'))\n",
    "model.add(Dense(units=2, activation='softmax'))"
   ]
  },
  {
   "cell_type": "code",
   "execution_count": 73,
   "metadata": {},
   "outputs": [],
   "source": [
    "# Compile and fit the model\n",
    "model.compile(optimizer='adam',\n",
    "              loss='categorical_crossentropy',\n",
    "              metrics=['accuracy'])"
   ]
  },
  {
   "cell_type": "code",
   "execution_count": 74,
   "metadata": {},
   "outputs": [
    {
     "name": "stdout",
     "output_type": "stream",
     "text": [
      "Epoch 1/60\n",
      " - 2s - loss: 0.5319 - acc: 0.7858\n",
      "Epoch 2/60\n",
      " - 0s - loss: 0.5129 - acc: 0.7854\n",
      "Epoch 3/60\n",
      " - 0s - loss: 0.4969 - acc: 0.7854\n",
      "Epoch 4/60\n",
      " - 0s - loss: 0.4767 - acc: 0.7854\n",
      "Epoch 5/60\n",
      " - 0s - loss: 0.4503 - acc: 0.7884\n",
      "Epoch 6/60\n",
      " - 0s - loss: 0.4239 - acc: 0.8057\n",
      "Epoch 7/60\n",
      " - 0s - loss: 0.3879 - acc: 0.8312\n",
      "Epoch 8/60\n",
      " - 0s - loss: 0.3444 - acc: 0.8446\n",
      "Epoch 9/60\n",
      " - 0s - loss: 0.2918 - acc: 0.8752\n",
      "Epoch 10/60\n",
      " - 0s - loss: 0.2238 - acc: 0.9098\n",
      "Epoch 11/60\n",
      " - 0s - loss: 0.1862 - acc: 0.9296\n",
      "Epoch 12/60\n",
      " - 0s - loss: 0.1479 - acc: 0.9434\n",
      "Epoch 13/60\n",
      " - 0s - loss: 0.1632 - acc: 0.9374\n",
      "Epoch 14/60\n",
      " - 0s - loss: 0.1066 - acc: 0.9577\n",
      "Epoch 15/60\n",
      " - 0s - loss: 0.0863 - acc: 0.9719\n",
      "Epoch 16/60\n",
      " - 0s - loss: 0.0880 - acc: 0.9672\n",
      "Epoch 17/60\n",
      " - 0s - loss: 0.0880 - acc: 0.9646\n",
      "Epoch 18/60\n",
      " - 0s - loss: 0.0625 - acc: 0.9784\n",
      "Epoch 19/60\n",
      " - 0s - loss: 0.0613 - acc: 0.9784\n",
      "Epoch 20/60\n",
      " - 0s - loss: 0.0550 - acc: 0.9806\n",
      "Epoch 21/60\n",
      " - 0s - loss: 0.0418 - acc: 0.9875\n",
      "Epoch 22/60\n",
      " - 0s - loss: 0.0392 - acc: 0.9888\n",
      "Epoch 23/60\n",
      " - 0s - loss: 0.0386 - acc: 0.9862\n",
      "Epoch 24/60\n",
      " - 0s - loss: 0.0347 - acc: 0.9875\n",
      "Epoch 25/60\n",
      " - 0s - loss: 0.0373 - acc: 0.9870\n",
      "Epoch 26/60\n",
      " - 0s - loss: 0.0415 - acc: 0.9823\n",
      "Epoch 27/60\n",
      " - 0s - loss: 0.0379 - acc: 0.9840\n",
      "Epoch 28/60\n",
      " - 0s - loss: 0.0566 - acc: 0.9784\n",
      "Epoch 29/60\n",
      " - 0s - loss: 0.0735 - acc: 0.9680\n",
      "Epoch 30/60\n",
      " - 0s - loss: 0.0956 - acc: 0.9624\n",
      "Epoch 31/60\n",
      " - 0s - loss: 0.0641 - acc: 0.9745\n",
      "Epoch 32/60\n",
      " - 1s - loss: 0.0606 - acc: 0.9784\n",
      "Epoch 33/60\n",
      " - 0s - loss: 0.0390 - acc: 0.9840\n",
      "Epoch 34/60\n",
      " - 0s - loss: 0.0297 - acc: 0.9870\n",
      "Epoch 35/60\n",
      " - 0s - loss: 0.0309 - acc: 0.9883\n",
      "Epoch 36/60\n",
      " - 0s - loss: 0.0280 - acc: 0.9866\n",
      "Epoch 37/60\n",
      " - 0s - loss: 0.0314 - acc: 0.9879\n",
      "Epoch 38/60\n",
      " - 0s - loss: 0.0320 - acc: 0.9853\n",
      "Epoch 39/60\n",
      " - 0s - loss: 0.0238 - acc: 0.9875\n",
      "Epoch 40/60\n",
      " - 0s - loss: 0.0226 - acc: 0.9879\n",
      "Epoch 41/60\n",
      " - 0s - loss: 0.0201 - acc: 0.9883\n",
      "Epoch 42/60\n",
      " - 0s - loss: 0.0226 - acc: 0.9892\n",
      "Epoch 43/60\n",
      " - 0s - loss: 0.0227 - acc: 0.9883\n",
      "Epoch 44/60\n",
      " - 0s - loss: 0.0208 - acc: 0.9892\n",
      "Epoch 45/60\n",
      " - 0s - loss: 0.0212 - acc: 0.9866\n",
      "Epoch 46/60\n",
      " - 0s - loss: 0.0204 - acc: 0.9875\n",
      "Epoch 47/60\n",
      " - 0s - loss: 0.0233 - acc: 0.9883\n",
      "Epoch 48/60\n",
      " - 0s - loss: 0.0195 - acc: 0.9883\n",
      "Epoch 49/60\n",
      " - 0s - loss: 0.0198 - acc: 0.9883\n",
      "Epoch 50/60\n",
      " - 0s - loss: 0.0182 - acc: 0.9901\n",
      "Epoch 51/60\n",
      " - 0s - loss: 0.0178 - acc: 0.9883\n",
      "Epoch 52/60\n",
      " - 0s - loss: 0.0195 - acc: 0.9875\n",
      "Epoch 53/60\n",
      " - 0s - loss: 0.0181 - acc: 0.9892\n",
      "Epoch 54/60\n",
      " - 0s - loss: 0.0175 - acc: 0.9892\n",
      "Epoch 55/60\n",
      " - 1s - loss: 0.0167 - acc: 0.9892\n",
      "Epoch 56/60\n",
      " - 1s - loss: 0.0186 - acc: 0.9870\n",
      "Epoch 57/60\n",
      " - 1s - loss: 0.0181 - acc: 0.9909\n",
      "Epoch 58/60\n",
      " - 1s - loss: 0.0181 - acc: 0.9892\n",
      "Epoch 59/60\n",
      " - 0s - loss: 0.0188 - acc: 0.9888\n",
      "Epoch 60/60\n",
      " - 0s - loss: 0.0176 - acc: 0.9901\n"
     ]
    },
    {
     "data": {
      "text/plain": [
       "<keras.callbacks.History at 0x1a44684cc0>"
      ]
     },
     "execution_count": 74,
     "metadata": {},
     "output_type": "execute_result"
    }
   ],
   "source": [
    "# set early stopping as callback\n",
    "callbacks = [EarlyStopping(monitor='val_loss', patience=2)]\n",
    "model.fit(\n",
    "    X_train_scaled,\n",
    "    y_train_categorical,\n",
    "    callbacks=callbacks,\n",
    "    epochs=60,\n",
    "    shuffle=True,\n",
    "    verbose=2)"
   ]
  },
  {
   "cell_type": "code",
   "execution_count": 75,
   "metadata": {},
   "outputs": [
    {
     "name": "stdout",
     "output_type": "stream",
     "text": [
      "Train Loss: 0.01622916919785264, Train Accuracy: 0.9926597582037997\n"
     ]
    }
   ],
   "source": [
    "# Evaluate the model using the training data\n",
    "tech_dl_loss_train, tech_dl_train = model.evaluate(\n",
    "    X_train_scaled, y_train_categorical, verbose=2)\n",
    "print(f\"Train Loss: {tech_dl_loss_train}, Train Accuracy: {tech_dl_train}\")"
   ]
  },
  {
   "cell_type": "code",
   "execution_count": 76,
   "metadata": {},
   "outputs": [
    {
     "name": "stdout",
     "output_type": "stream",
     "text": [
      "Loss: 2.390858381870956, Accuracy: 0.7050452782913444\n"
     ]
    }
   ],
   "source": [
    "# Evaluate the model using the testing data\n",
    "tech_dl_loss_test, tech_dl_test = model.evaluate(\n",
    "    X_test_scaled, y_test_categorical, verbose=2)\n",
    "print(f\"Loss: {tech_dl_loss_test}, Accuracy: {tech_dl_test}\")"
   ]
  },
  {
   "cell_type": "code",
   "execution_count": 77,
   "metadata": {},
   "outputs": [
    {
     "data": {
      "text/plain": [
       "array([1., 1., 1., 1., 1., 1., 1., 0., 1., 1., 1., 1., 1., 1., 1., 1., 1.,\n",
       "       1., 1., 1., 1., 1., 1., 1., 1., 1., 1., 1., 1., 1., 1., 1., 1., 1.,\n",
       "       1., 1., 1., 1., 1., 0., 1., 1., 1., 1., 1., 1., 1., 1., 1., 1., 1.,\n",
       "       1., 1., 1., 0., 1., 1., 1., 1., 1., 1., 1., 1., 1., 1., 1., 1., 1.,\n",
       "       1., 1., 1., 1., 1., 1., 1., 1., 1., 1., 1., 1., 1., 1., 1., 1., 1.,\n",
       "       1., 1., 1., 1., 0., 1., 1., 1., 1., 1., 1., 1., 1., 1., 1., 1., 1.,\n",
       "       1., 0., 1., 1., 1., 1., 1., 1., 1., 1., 1., 1., 1., 1., 1., 1., 1.,\n",
       "       1., 1., 1., 1., 1., 1., 1., 1., 1., 1., 1., 1., 1., 1., 1., 1., 1.,\n",
       "       1., 1., 1., 1., 1., 1., 1., 1., 1., 1., 1., 1., 1., 1., 1., 1., 1.,\n",
       "       1., 1., 1., 1., 1., 1., 1., 1., 1., 1., 1., 1., 1., 0., 1., 1., 1.,\n",
       "       1., 1., 1., 1., 1., 1., 1., 1., 1., 1., 0., 1., 1., 1., 1., 1., 1.,\n",
       "       1., 1., 0., 1., 1., 1., 1., 1., 1., 1., 1., 1., 1., 1., 1., 1., 1.,\n",
       "       1., 1., 1., 1., 1., 0., 1., 1., 1., 1., 1., 1., 1., 1., 0., 1., 1.,\n",
       "       1., 1., 1., 1., 0., 1., 1., 1., 0., 1., 1., 1., 1., 1., 1., 1., 1.,\n",
       "       1., 1., 1., 0., 1., 1., 1., 1., 1., 1., 1., 1., 1., 1., 1., 1., 1.,\n",
       "       1., 1., 1., 1., 1., 1., 1., 1., 1., 1., 1., 1., 1., 1., 0., 1., 1.,\n",
       "       1., 1., 1., 1., 1., 1., 1., 1., 1., 1., 1., 0., 1., 1., 1., 1., 1.,\n",
       "       1., 1., 1., 1., 1., 1., 1., 1., 1., 1., 1., 1., 0., 1., 1., 1., 1.,\n",
       "       1., 1., 1., 1., 1., 0., 1., 1., 1., 1., 1., 0., 1., 1., 1., 0., 1.,\n",
       "       1., 1., 1., 1., 1., 1., 1., 1., 1., 1., 1., 1., 1., 1., 1., 1., 1.,\n",
       "       1., 1., 1., 0., 1., 1., 1., 1., 1., 1., 1., 1., 1., 1., 1., 1., 1.,\n",
       "       1., 1., 1., 1., 1., 1., 1., 1., 1., 1., 1., 1., 1., 1., 1., 1., 1.,\n",
       "       1., 1., 1., 1., 1., 1., 1., 1., 0., 1., 1., 1., 1., 0., 1., 1., 1.,\n",
       "       1., 0., 1., 1., 0., 1., 1., 1., 1., 1., 1., 1., 1., 1., 1., 1., 1.,\n",
       "       1., 1., 1., 1., 1., 1., 1., 1., 1., 1., 1., 1., 1., 1., 1., 1., 1.,\n",
       "       1., 1., 1., 1., 1., 1., 1., 1., 1., 1., 1., 1., 1., 1., 0., 1., 1.,\n",
       "       1., 1., 1., 1., 1., 1., 1., 1., 1., 1., 1., 1., 1., 1., 1., 1., 1.,\n",
       "       1., 0., 1., 1., 1., 1., 1., 1., 1., 1., 1., 1., 1., 1., 1., 1., 1.,\n",
       "       1., 1., 1., 1., 1., 1., 1., 1., 1., 1., 1., 1., 1., 1., 1., 1., 1.,\n",
       "       1., 1., 1., 1., 1., 1., 1., 1., 1., 1., 1., 1., 1., 1., 1., 1., 0.,\n",
       "       1., 1., 1., 1., 1., 1., 1., 1., 1., 0., 1., 1., 1., 1., 1., 1., 1.,\n",
       "       1., 1., 1., 1., 1., 1., 1., 1., 1., 0., 1., 1., 1., 1., 1., 1., 1.,\n",
       "       1., 1., 1., 1., 1., 1., 1., 1., 1., 1., 1., 1., 1., 1., 1., 1., 1.,\n",
       "       1., 1., 1., 1., 1., 1., 1., 0., 1., 1., 1., 1., 1., 1., 1., 1., 0.,\n",
       "       1., 1., 1., 1., 1., 1., 1., 1., 1., 1., 1., 1., 1., 1., 1., 1., 0.,\n",
       "       1., 1., 1., 1., 1., 1., 1., 1., 1., 1., 1., 0., 1., 1., 1., 1., 0.,\n",
       "       1., 1., 0., 1., 1., 1., 1., 1., 1., 1., 1., 1., 1., 1., 1., 1., 1.,\n",
       "       1., 1., 1., 1., 1., 1., 1., 1., 1., 1., 1., 1., 1., 1., 1., 1., 1.,\n",
       "       1., 1., 1., 1., 1., 1., 0., 1., 1., 1., 0., 1., 0., 1., 1., 1., 1.,\n",
       "       0., 1., 1., 1., 1., 1., 1., 1., 1., 1., 1., 1., 1., 1., 1., 1., 1.,\n",
       "       1., 1., 1., 1., 1., 1., 1., 1., 1., 0., 1., 1., 1., 1., 1., 0., 1.,\n",
       "       1., 0., 1., 0., 1., 1., 0., 1., 1., 1., 1., 1., 1., 1., 1., 1., 1.,\n",
       "       1., 0., 1., 1., 1., 1., 1., 1., 1., 1., 1., 1., 0., 1., 1., 1., 1.,\n",
       "       1., 0., 1., 1., 0., 0., 1., 1., 1., 1., 1., 1., 0., 1., 1., 0., 1.,\n",
       "       1., 1., 1., 1., 1., 1., 1., 1., 1., 1., 1., 1., 1., 1., 1., 1., 0.,\n",
       "       1., 1., 1., 1., 0., 1., 1., 1.])"
      ]
     },
     "execution_count": 77,
     "metadata": {},
     "output_type": "execute_result"
    }
   ],
   "source": [
    "X_train, X_test, y_train, y_test = train_test_split(X, y2, test_size=0.25, random_state=1)\n",
    "\n",
    "\n",
    "model = KNeighborsClassifier()\n",
    "model.fit(X_train, y_train)\n",
    "\n",
    "y_predict = model.predict(X_test)\n",
    "y_predict"
   ]
  },
  {
   "cell_type": "code",
   "execution_count": 78,
   "metadata": {},
   "outputs": [
    {
     "data": {
      "text/plain": [
       "array([[ 16, 154],\n",
       "       [ 37, 566]])"
      ]
     },
     "execution_count": 78,
     "metadata": {},
     "output_type": "execute_result"
    }
   ],
   "source": [
    "confusion_matrix(y_test, y_predict)"
   ]
  },
  {
   "cell_type": "code",
   "execution_count": 79,
   "metadata": {},
   "outputs": [
    {
     "data": {
      "image/png": "[encoded data removed]",
      "text/plain": [
       "<Figure size 432x288 with 1 Axes>"
      ]
     },
     "metadata": {
      "needs_background": "light"
     },
     "output_type": "display_data"
    },
    {
     "data": {
      "text/plain": [
       "array([0. , 0. , 0. , 0.2, 0. , 0. , 0. , 0.6, 0.2, 0.2, 0.2, 0.2, 0. ,\n",
       "       0.4, 0.2, 0.2, 0.4, 0.2, 0.4, 0. , 0.2, 0. , 0. , 0. , 0.4, 0.4,\n",
       "       0. , 0.2, 0. , 0.4, 0.4, 0. , 0. , 0.4, 0. , 0.2, 0. , 0.2, 0. ,\n",
       "       0.6, 0.4, 0. , 0. , 0. , 0.2, 0. , 0. , 0.2, 0. , 0.2, 0.4, 0.4,\n",
       "       0.4, 0. , 0.6, 0.2, 0.2, 0.4, 0.4, 0.2, 0. , 0.2, 0. , 0. , 0.2,\n",
       "       0. , 0.2, 0.2, 0.4, 0.2, 0.2, 0. , 0. , 0. , 0. , 0. , 0.2, 0.2,\n",
       "       0.2, 0.2, 0. , 0. , 0.2, 0. , 0.2, 0.2, 0.2, 0.2, 0.4, 0.6, 0.4,\n",
       "       0. , 0.2, 0.2, 0.2, 0.2, 0.2, 0.2, 0. , 0. , 0. , 0. , 0.2, 0.6,\n",
       "       0. , 0.4, 0.4, 0.4, 0. , 0.2, 0.4, 0.4, 0.2, 0. , 0.2, 0. , 0.4,\n",
       "       0. , 0.4, 0. , 0. , 0. , 0.2, 0. , 0.2, 0.2, 0.4, 0.2, 0.2, 0.2,\n",
       "       0. , 0.4, 0.2, 0.2, 0. , 0.2, 0.4, 0.4, 0. , 0.2, 0.4, 0.2, 0. ,\n",
       "       0.2, 0. , 0.2, 0. , 0.4, 0. , 0.2, 0. , 0.4, 0.2, 0.2, 0. , 0. ,\n",
       "       0. , 0.4, 0.2, 0.4, 0.4, 0.2, 0.2, 0.2, 0.2, 0.4, 0.6, 0. , 0.4,\n",
       "       0.2, 0.2, 0.2, 0.2, 0. , 0. , 0. , 0. , 0. , 0.2, 0.2, 0.8, 0.4,\n",
       "       0.2, 0.2, 0.2, 0. , 0.4, 0.4, 0.2, 0.8, 0.2, 0.4, 0.2, 0. , 0.2,\n",
       "       0. , 0. , 0.2, 0. , 0.4, 0. , 0. , 0. , 0.4, 0. , 0. , 0. , 0. ,\n",
       "       0.2, 0.6, 0. , 0. , 0.4, 0.2, 0.2, 0. , 0. , 0.2, 0.8, 0.2, 0. ,\n",
       "       0.2, 0.2, 0.2, 0. , 0.6, 0. , 0.4, 0.2, 0.6, 0. , 0.4, 0. , 0.2,\n",
       "       0.4, 0.2, 0.2, 0.2, 0. , 0.2, 0. , 0.6, 0.4, 0. , 0.4, 0.2, 0. ,\n",
       "       0.2, 0. , 0. , 0.2, 0.2, 0.2, 0.2, 0. , 0. , 0.4, 0.4, 0.2, 0.2,\n",
       "       0.2, 0. , 0. , 0. , 0.2, 0.2, 0.2, 0. , 0. , 0.6, 0. , 0.4, 0. ,\n",
       "       0.2, 0.2, 0. , 0. , 0.2, 0.2, 0. , 0.2, 0.4, 0.4, 1. , 0.2, 0.4,\n",
       "       0.2, 0. , 0. , 0.2, 0. , 0.2, 0. , 0.2, 0. , 0. , 0.4, 0.4, 0. ,\n",
       "       0.4, 0.2, 0.8, 0. , 0.2, 0. , 0.2, 0. , 0. , 0.2, 0. , 0. , 0.6,\n",
       "       0.2, 0.2, 0. , 0.2, 0.4, 0.6, 0. , 0.2, 0. , 0.6, 0.4, 0. , 0.2,\n",
       "       0.4, 0. , 0.2, 0. , 0. , 0.2, 0. , 0.2, 0.2, 0. , 0.2, 0. , 0.4,\n",
       "       0.2, 0.2, 0.4, 0. , 0.4, 0.8, 0.4, 0.2, 0.2, 0. , 0.2, 0.2, 0.2,\n",
       "       0. , 0. , 0.2, 0.2, 0.2, 0. , 0. , 0.2, 0. , 0.2, 0.4, 0. , 0.2,\n",
       "       0.4, 0. , 0.2, 0.4, 0.2, 0. , 0.2, 0.2, 0.4, 0.4, 0.2, 0.2, 0.2,\n",
       "       0.2, 0. , 0.4, 0. , 0.2, 0.6, 0. , 0.2, 0.2, 0.4, 0.6, 0.2, 0. ,\n",
       "       0. , 0.2, 0.6, 0.2, 0. , 0.6, 0.2, 0. , 0.4, 0.2, 0.2, 0.2, 0.2,\n",
       "       0.2, 0.2, 0. , 0. , 0.2, 0. , 0.4, 0.2, 0.4, 0. , 0.2, 0. , 0.2,\n",
       "       0.4, 0. , 0. , 0. , 0. , 0.4, 0.2, 0.2, 0.4, 0. , 0. , 0.2, 0. ,\n",
       "       0.2, 0.2, 0. , 0.2, 0.2, 0.4, 0.4, 0. , 0.2, 0. , 0.6, 0.2, 0.2,\n",
       "       0.2, 0.2, 0.2, 0.2, 0.4, 0.2, 0. , 0.4, 0.2, 0.4, 0. , 0.4, 0.2,\n",
       "       0.4, 0.2, 0.2, 0. , 0. , 0.8, 0. , 0. , 0.2, 0.2, 0.4, 0.4, 0. ,\n",
       "       0.2, 0. , 0.2, 0. , 0. , 0.4, 0.2, 0.2, 0.2, 0.2, 0.2, 0.2, 0.4,\n",
       "       0. , 0.2, 0.4, 0. , 0.2, 0. , 0.2, 0.2, 0. , 0.2, 0.4, 0. , 0.2,\n",
       "       0.2, 0.2, 0.4, 0. , 0. , 0.2, 0.4, 0. , 0.2, 0.4, 0.4, 0. , 0.4,\n",
       "       0. , 0. , 0.6, 0.2, 0. , 0. , 0. , 0. , 0.4, 0.2, 0. , 0.2, 0.6,\n",
       "       0.4, 0. , 0. , 0.2, 0.2, 0.4, 0. , 0.2, 0.4, 0. , 0.4, 0. , 0. ,\n",
       "       0.4, 0. , 0.4, 0.6, 0.4, 0.2, 0.4, 0. , 0.4, 0. , 0. , 0. , 0.2,\n",
       "       0. , 0. , 0.2, 0. , 0. , 0.4, 0.4, 0.4, 0. , 0. , 0.2, 0. , 0.2,\n",
       "       0. , 0. , 0. , 0.2, 0. , 0.4, 0.2, 0.2, 0.4, 1. , 0.2, 0.4, 0. ,\n",
       "       0.2, 0. , 0.4, 0.2, 0.2, 0.6, 0.2, 0.2, 0.2, 0.4, 0.2, 0.2, 0. ,\n",
       "       0. , 0. , 0. , 0. , 0. , 0.4, 0.4, 0. , 0. , 0.6, 0. , 0. , 0. ,\n",
       "       0.4, 0.2, 0. , 0.2, 0. , 0.4, 0. , 0.4, 0.8, 0.4, 0. , 0.2, 0.2,\n",
       "       0.6, 0.2, 0.2, 0.6, 0. , 0.2, 0.4, 0.4, 0.4, 0.2, 0.2, 0.4, 0.2,\n",
       "       0. , 0.2, 0.4, 0.2, 0.2, 0. , 0. , 0.2, 0.4, 0. , 0.4, 0.4, 0.2,\n",
       "       0.4, 0.2, 0.2, 0.2, 0. , 0.2, 0.2, 0.2, 0. , 0. , 0. , 0. , 0.2,\n",
       "       0.4, 0.2, 0.6, 0.2, 0.4, 0.4, 0.8, 0. , 0.6, 0.4, 0.2, 0.2, 0. ,\n",
       "       0.6, 0.2, 0. , 0. , 0. , 0.2, 0.2, 0. , 0.4, 0. , 0.4, 0.2, 0.4,\n",
       "       0. , 0. , 0.4, 0.2, 0.2, 0. , 0.2, 0. , 0. , 0. , 0.2, 0.2, 0.4,\n",
       "       0.6, 0.4, 0. , 0.4, 0.2, 0.4, 0.6, 0.2, 0.4, 0.6, 0. , 0.6, 0. ,\n",
       "       0. , 0.8, 0.2, 0. , 0.2, 0. , 0. , 0.2, 0.2, 0. , 0.4, 0. , 0.4,\n",
       "       0.6, 0.2, 0.2, 0.2, 0. , 0.4, 0.2, 0. , 0. , 0.2, 0. , 0.6, 0.2,\n",
       "       0.2, 0. , 0.2, 0.2, 0.6, 0. , 0.4, 0.6, 0.6, 0. , 0. , 0.2, 0. ,\n",
       "       0.2, 0.4, 0.8, 0. , 0.2, 0.6, 0. , 0.2, 0. , 0.2, 0.2, 0. , 0.2,\n",
       "       0.2, 0.2, 0. , 0.4, 0. , 0. , 0.2, 0. , 0. , 0.2, 0.6, 0.2, 0.2,\n",
       "       0. , 0.4, 0.8, 0. , 0.2, 0. ])"
      ]
     },
     "execution_count": 79,
     "metadata": {},
     "output_type": "execute_result"
    }
   ],
   "source": [
    "y_predict_probabilities = model.predict_proba(X_test)[:,0]\n",
    "\n",
    "fpr, tpr, _ = roc_curve(y_test, y_predict_probabilities)\n",
    "roc_auc = auc(fpr, tpr)\n",
    "\n",
    "plt.figure()\n",
    "plt.plot(fpr, tpr, color='darkorange',\n",
    "         lw=2, label='ROC curve (area = %0.2f)' % roc_auc)\n",
    "plt.plot([0, 1], [0, 1], color='navy', lw=2, linestyle='--')\n",
    "plt.xlim([0.0, 1.0])\n",
    "plt.ylim([0.0, 1.05])\n",
    "plt.xlabel('False Positive Rate')\n",
    "plt.ylabel('True Positive Rate')\n",
    "plt.title('ROC Curve')\n",
    "plt.legend(loc=\"lower right\")\n",
    "plt.show()\n",
    "y_predict_probabilities"
   ]
  },
  {
   "cell_type": "markdown",
   "metadata": {},
   "source": [
    "## Wellness Program"
   ]
  },
  {
   "cell_type": "code",
   "execution_count": 80,
   "metadata": {},
   "outputs": [
    {
     "data": {
      "text/plain": [
       "(2316, 3)"
      ]
     },
     "execution_count": 80,
     "metadata": {},
     "output_type": "execute_result"
    }
   ],
   "source": [
    "label_encoder = LabelEncoder()\n",
    "label_encoder.fit(y3_train)\n",
    "encoded_y_train = label_encoder.transform(y3_train)\n",
    "encoded_y_test = label_encoder.transform(y3_test)\n",
    "\n",
    "y_train_categorical = to_categorical(encoded_y_train)\n",
    "y_test_categorical = to_categorical(encoded_y_test)\n",
    "\n",
    "y_train_categorical.shape"
   ]
  },
  {
   "cell_type": "code",
   "execution_count": 81,
   "metadata": {},
   "outputs": [],
   "source": [
    "model = Sequential()\n",
    "model.add(Dense(units=100, activation='relu', input_dim=47))\n",
    "model.add(Dense(units=100, activation='relu'))\n",
    "model.add(Dense(units=100, activation='relu'))\n",
    "model.add(Dense(units=100, activation='relu'))\n",
    "model.add(Dense(units=3, activation='softmax'))"
   ]
  },
  {
   "cell_type": "code",
   "execution_count": 82,
   "metadata": {},
   "outputs": [
    {
     "name": "stdout",
     "output_type": "stream",
     "text": [
      "_________________________________________________________________\n",
      "Layer (type)                 Output Shape              Param #   \n",
      "=================================================================\n",
      "dense_11 (Dense)             (None, 100)               4800      \n",
      "_________________________________________________________________\n",
      "dense_12 (Dense)             (None, 100)               10100     \n",
      "_________________________________________________________________\n",
      "dense_13 (Dense)             (None, 100)               10100     \n",
      "_________________________________________________________________\n",
      "dense_14 (Dense)             (None, 100)               10100     \n",
      "_________________________________________________________________\n",
      "dense_15 (Dense)             (None, 3)                 303       \n",
      "=================================================================\n",
      "Total params: 35,403\n",
      "Trainable params: 35,403\n",
      "Non-trainable params: 0\n",
      "_________________________________________________________________\n"
     ]
    }
   ],
   "source": [
    "model.summary()"
   ]
  },
  {
   "cell_type": "code",
   "execution_count": 83,
   "metadata": {},
   "outputs": [],
   "source": [
    "# Compile and fit the model\n",
    "model.compile(optimizer='adam',\n",
    "              loss='categorical_crossentropy',\n",
    "              metrics=['accuracy'])"
   ]
  },
  {
   "cell_type": "code",
   "execution_count": 84,
   "metadata": {},
   "outputs": [
    {
     "name": "stdout",
     "output_type": "stream",
     "text": [
      "Epoch 1/60\n",
      " - 2s - loss: 0.7477 - acc: 0.7060\n",
      "Epoch 2/60\n",
      " - 0s - loss: 0.6329 - acc: 0.7535\n",
      "Epoch 3/60\n",
      " - 0s - loss: 0.6051 - acc: 0.7630\n",
      "Epoch 4/60\n",
      " - 0s - loss: 0.5771 - acc: 0.7647\n",
      "Epoch 5/60\n",
      " - 0s - loss: 0.5560 - acc: 0.7781\n",
      "Epoch 6/60\n",
      " - 0s - loss: 0.5288 - acc: 0.7884\n",
      "Epoch 7/60\n",
      " - 0s - loss: 0.4998 - acc: 0.8027\n",
      "Epoch 8/60\n",
      " - 0s - loss: 0.4586 - acc: 0.8217\n",
      "Epoch 9/60\n",
      " - 0s - loss: 0.4183 - acc: 0.8320\n",
      "Epoch 10/60\n",
      " - 0s - loss: 0.3918 - acc: 0.8532\n",
      "Epoch 11/60\n",
      " - 0s - loss: 0.3318 - acc: 0.8722\n",
      "Epoch 12/60\n",
      " - 0s - loss: 0.3004 - acc: 0.8869\n",
      "Epoch 13/60\n",
      " - 0s - loss: 0.2693 - acc: 0.8964\n",
      "Epoch 14/60\n",
      " - 0s - loss: 0.2156 - acc: 0.9257\n",
      "Epoch 15/60\n",
      " - 0s - loss: 0.1838 - acc: 0.9357\n",
      "Epoch 16/60\n",
      " - 0s - loss: 0.1643 - acc: 0.9417\n",
      "Epoch 17/60\n",
      " - 0s - loss: 0.1444 - acc: 0.9478\n",
      "Epoch 18/60\n",
      " - 0s - loss: 0.1104 - acc: 0.9607\n",
      "Epoch 19/60\n",
      " - 0s - loss: 0.0961 - acc: 0.9693\n",
      "Epoch 20/60\n",
      " - 0s - loss: 0.1006 - acc: 0.9642\n",
      "Epoch 21/60\n",
      " - 0s - loss: 0.0831 - acc: 0.9763\n",
      "Epoch 22/60\n",
      " - 0s - loss: 0.0668 - acc: 0.9780\n",
      "Epoch 23/60\n",
      " - 0s - loss: 0.0601 - acc: 0.9797\n",
      "Epoch 24/60\n",
      " - 0s - loss: 0.0578 - acc: 0.9771\n",
      "Epoch 25/60\n",
      " - 0s - loss: 0.0598 - acc: 0.9823\n",
      "Epoch 26/60\n",
      " - 0s - loss: 0.0400 - acc: 0.9870\n",
      "Epoch 27/60\n",
      " - 0s - loss: 0.0511 - acc: 0.9827\n",
      "Epoch 28/60\n",
      " - 0s - loss: 0.0535 - acc: 0.9832\n",
      "Epoch 29/60\n",
      " - 0s - loss: 0.0578 - acc: 0.9788\n",
      "Epoch 30/60\n",
      " - 0s - loss: 0.0721 - acc: 0.9758\n",
      "Epoch 31/60\n",
      " - 0s - loss: 0.0840 - acc: 0.9685\n",
      "Epoch 32/60\n",
      " - 0s - loss: 0.0574 - acc: 0.9775\n",
      "Epoch 33/60\n",
      " - 0s - loss: 0.0373 - acc: 0.9866\n",
      "Epoch 34/60\n",
      " - 0s - loss: 0.0309 - acc: 0.9888\n",
      "Epoch 35/60\n",
      " - 0s - loss: 0.0257 - acc: 0.9905\n",
      "Epoch 36/60\n",
      " - 0s - loss: 0.0282 - acc: 0.9888\n",
      "Epoch 37/60\n",
      " - 0s - loss: 0.0298 - acc: 0.9896\n",
      "Epoch 38/60\n",
      " - 0s - loss: 0.0255 - acc: 0.9892\n",
      "Epoch 39/60\n",
      " - 0s - loss: 0.0226 - acc: 0.9896\n",
      "Epoch 40/60\n",
      " - 0s - loss: 0.0233 - acc: 0.9896\n",
      "Epoch 41/60\n",
      " - 0s - loss: 0.0214 - acc: 0.9901\n",
      "Epoch 42/60\n",
      " - 0s - loss: 0.0197 - acc: 0.9909\n",
      "Epoch 43/60\n",
      " - 0s - loss: 0.0245 - acc: 0.9892\n",
      "Epoch 44/60\n",
      " - 0s - loss: 0.0357 - acc: 0.9858\n",
      "Epoch 45/60\n",
      " - 0s - loss: 0.0470 - acc: 0.9819\n",
      "Epoch 46/60\n",
      " - 0s - loss: 0.0943 - acc: 0.9637\n",
      "Epoch 47/60\n",
      " - 0s - loss: 0.0819 - acc: 0.9711\n",
      "Epoch 48/60\n",
      " - 0s - loss: 0.0454 - acc: 0.9849\n",
      "Epoch 49/60\n",
      " - 0s - loss: 0.0619 - acc: 0.9745\n",
      "Epoch 50/60\n",
      " - 0s - loss: 0.0454 - acc: 0.9836\n",
      "Epoch 51/60\n",
      " - 0s - loss: 0.0282 - acc: 0.9875\n",
      "Epoch 52/60\n",
      " - 0s - loss: 0.0364 - acc: 0.9840\n",
      "Epoch 53/60\n",
      " - 0s - loss: 0.0287 - acc: 0.9875\n",
      "Epoch 54/60\n",
      " - 0s - loss: 0.0240 - acc: 0.9905\n",
      "Epoch 55/60\n",
      " - 0s - loss: 0.0188 - acc: 0.9914\n",
      "Epoch 56/60\n",
      " - 0s - loss: 0.0200 - acc: 0.9901\n",
      "Epoch 57/60\n",
      " - 0s - loss: 0.0179 - acc: 0.9918\n",
      "Epoch 58/60\n",
      " - 0s - loss: 0.0173 - acc: 0.9922\n",
      "Epoch 59/60\n",
      " - 0s - loss: 0.0178 - acc: 0.9905\n",
      "Epoch 60/60\n",
      " - 0s - loss: 0.0204 - acc: 0.9892\n"
     ]
    },
    {
     "data": {
      "text/plain": [
       "<keras.callbacks.History at 0x1a44c14470>"
      ]
     },
     "execution_count": 84,
     "metadata": {},
     "output_type": "execute_result"
    }
   ],
   "source": [
    "# set early stopping as callback\n",
    "callbacks = [EarlyStopping(monitor='val_loss', patience=2)]\n",
    "model.fit(\n",
    "    X_train_scaled,\n",
    "    y_train_categorical,\n",
    "    callbacks=callbacks,\n",
    "    epochs=60,\n",
    "    shuffle=True,\n",
    "    verbose=2)"
   ]
  },
  {
   "cell_type": "code",
   "execution_count": 85,
   "metadata": {},
   "outputs": [
    {
     "name": "stdout",
     "output_type": "stream",
     "text": [
      "Train Loss: 0.013792423742528946, Train Accuracy: 0.9939550949913645\n"
     ]
    }
   ],
   "source": [
    "# Evaluate the model using the training data\n",
    "wellness_dl_loss_train, wellness_dl_train = model.evaluate(\n",
    "    X_train_scaled, y_train_categorical, verbose=2)\n",
    "print(f\"Train Loss: {wellness_dl_loss_train}, Train Accuracy: {wellness_dl_train}\")"
   ]
  },
  {
   "cell_type": "code",
   "execution_count": 86,
   "metadata": {},
   "outputs": [
    {
     "name": "stdout",
     "output_type": "stream",
     "text": [
      "Test Loss: 2.5619266764158417, Test Accuracy: 0.6946959897278198\n"
     ]
    }
   ],
   "source": [
    "# Evaluate the model using the testing data\n",
    "wellness_dl_loss_test, wellness_dl_test = model.evaluate(\n",
    "    X_test_scaled, y_test_categorical, verbose=2)\n",
    "print(f\"Test Loss: {wellness_dl_loss_test}, Test Accuracy: {wellness_dl_test}\")"
   ]
  },
  {
   "cell_type": "code",
   "execution_count": 90,
   "metadata": {},
   "outputs": [
    {
     "data": {
      "text/html": [
       "<div>\n",
       "<style scoped>\n",
       "    .dataframe tbody tr th:only-of-type {\n",
       "        vertical-align: middle;\n",
       "    }\n",
       "\n",
       "    .dataframe tbody tr th {\n",
       "        vertical-align: top;\n",
       "    }\n",
       "\n",
       "    .dataframe thead th {\n",
       "        text-align: right;\n",
       "    }\n",
       "</style>\n",
       "<table border=\"1\" class=\"dataframe\">\n",
       "  <thead>\n",
       "    <tr style=\"text-align: right;\">\n",
       "      <th></th>\n",
       "      <th>target</th>\n",
       "      <th>train_score</th>\n",
       "      <th>test_score</th>\n",
       "      <th>model</th>\n",
       "    </tr>\n",
       "  </thead>\n",
       "  <tbody>\n",
       "    <tr>\n",
       "      <th>0</th>\n",
       "      <td>treatment</td>\n",
       "      <td>0.716753</td>\n",
       "      <td>0.737387</td>\n",
       "      <td>log_regression</td>\n",
       "    </tr>\n",
       "    <tr>\n",
       "      <th>1</th>\n",
       "      <td>treatment</td>\n",
       "      <td>1.000000</td>\n",
       "      <td>0.734799</td>\n",
       "      <td>random_forest</td>\n",
       "    </tr>\n",
       "    <tr>\n",
       "      <th>2</th>\n",
       "      <td>treatment</td>\n",
       "      <td>0.714594</td>\n",
       "      <td>0.686934</td>\n",
       "      <td>knn</td>\n",
       "    </tr>\n",
       "    <tr>\n",
       "      <th>3</th>\n",
       "      <td>treatment</td>\n",
       "      <td>0.696459</td>\n",
       "      <td>0.716688</td>\n",
       "      <td>svm</td>\n",
       "    </tr>\n",
       "    <tr>\n",
       "      <th>4</th>\n",
       "      <td>treatment</td>\n",
       "      <td>0.975389</td>\n",
       "      <td>0.477361</td>\n",
       "      <td>dnn</td>\n",
       "    </tr>\n",
       "    <tr>\n",
       "      <th>5</th>\n",
       "      <td>tech_company</td>\n",
       "      <td>0.793610</td>\n",
       "      <td>0.787840</td>\n",
       "      <td>log_regression</td>\n",
       "    </tr>\n",
       "    <tr>\n",
       "      <th>6</th>\n",
       "      <td>tech_company</td>\n",
       "      <td>0.999568</td>\n",
       "      <td>0.780078</td>\n",
       "      <td>random_forest</td>\n",
       "    </tr>\n",
       "    <tr>\n",
       "      <th>7</th>\n",
       "      <td>tech_company</td>\n",
       "      <td>0.799223</td>\n",
       "      <td>0.764554</td>\n",
       "      <td>knn</td>\n",
       "    </tr>\n",
       "    <tr>\n",
       "      <th>8</th>\n",
       "      <td>tech_company</td>\n",
       "      <td>0.785406</td>\n",
       "      <td>0.785252</td>\n",
       "      <td>svm</td>\n",
       "    </tr>\n",
       "    <tr>\n",
       "      <th>9</th>\n",
       "      <td>tech_company</td>\n",
       "      <td>0.992660</td>\n",
       "      <td>0.705045</td>\n",
       "      <td>dnn</td>\n",
       "    </tr>\n",
       "    <tr>\n",
       "      <th>10</th>\n",
       "      <td>wellness_program</td>\n",
       "      <td>0.761226</td>\n",
       "      <td>0.745149</td>\n",
       "      <td>log_regression</td>\n",
       "    </tr>\n",
       "    <tr>\n",
       "      <th>11</th>\n",
       "      <td>wellness_program</td>\n",
       "      <td>1.000000</td>\n",
       "      <td>0.739974</td>\n",
       "      <td>random_forest</td>\n",
       "    </tr>\n",
       "    <tr>\n",
       "      <th>12</th>\n",
       "      <td>wellness_program</td>\n",
       "      <td>0.737478</td>\n",
       "      <td>0.711514</td>\n",
       "      <td>knn</td>\n",
       "    </tr>\n",
       "    <tr>\n",
       "      <th>13</th>\n",
       "      <td>wellness_program</td>\n",
       "      <td>0.747841</td>\n",
       "      <td>0.729625</td>\n",
       "      <td>svm</td>\n",
       "    </tr>\n",
       "    <tr>\n",
       "      <th>14</th>\n",
       "      <td>wellness_program</td>\n",
       "      <td>0.993955</td>\n",
       "      <td>0.694696</td>\n",
       "      <td>dnn</td>\n",
       "    </tr>\n",
       "  </tbody>\n",
       "</table>\n",
       "</div>"
      ],
      "text/plain": [
       "              target  train_score  test_score           model\n",
       "0          treatment     0.716753    0.737387  log_regression\n",
       "1          treatment     1.000000    0.734799   random_forest\n",
       "2          treatment     0.714594    0.686934             knn\n",
       "3          treatment     0.696459    0.716688             svm\n",
       "4          treatment     0.975389    0.477361             dnn\n",
       "5       tech_company     0.793610    0.787840  log_regression\n",
       "6       tech_company     0.999568    0.780078   random_forest\n",
       "7       tech_company     0.799223    0.764554             knn\n",
       "8       tech_company     0.785406    0.785252             svm\n",
       "9       tech_company     0.992660    0.705045             dnn\n",
       "10  wellness_program     0.761226    0.745149  log_regression\n",
       "11  wellness_program     1.000000    0.739974   random_forest\n",
       "12  wellness_program     0.737478    0.711514             knn\n",
       "13  wellness_program     0.747841    0.729625             svm\n",
       "14  wellness_program     0.993955    0.694696             dnn"
      ]
     },
     "execution_count": 90,
     "metadata": {},
     "output_type": "execute_result"
    }
   ],
   "source": [
    "model_results = pd.DataFrame(\n",
    "    {\"target\": [\"treatment\", \"treatment\", \"treatment\",\"treatment\",\"treatment\",\"tech_company\",\"tech_company\",\"tech_company\",\"tech_company\",\"tech_company\",\"wellness_program\",\"wellness_program\",\"wellness_program\",\"wellness_program\",\"wellness_program\"],\n",
    "     \"train_score\": [treatment_log_reg_train, treatment_rf_train, treatment_knn_train, treatment_svm_train, treatment_dl_train, tech_log_reg_train, tech_rf_train, tech_knn_train, tech_svm_train, tech_dl_train, wellness_log_reg_train, wellness_rf_train, wellness_knn_train, wellness_svm_train, wellness_dl_train],\n",
    "     \"test_score\": [treatment_log_reg_test, treatment_rf_test, treatment_knn_test, treatment_svm_test, treatment_dl_test, tech_log_reg_test, tech_rf_test, tech_knn_test, tech_svm_test, tech_dl_test, wellness_log_reg_test, wellness_rf_test, wellness_knn_test, wellness_svm_test, wellness_dl_test],\n",
    "     \"model\": [\"log_regression\", \"random_forest\", \"knn\", \"svm\", \"dnn\", \"log_regression\", \"random_forest\", \"knn\", \"svm\", \"dnn\", \"log_regression\", \"random_forest\", \"knn\", \"svm\", \"dnn\"]\n",
    "     })\n",
    "\n",
    "model_results\n"
   ]
  },
  {
   "cell_type": "code",
   "execution_count": 91,
   "metadata": {},
   "outputs": [],
   "source": [
    "model_results.to_csv(\"../data/model_acc.csv\",\n",
    "                  encoding=\"utf-8\", index=False, header=True)"
   ]
  },
  {
   "cell_type": "code",
   "execution_count": null,
   "metadata": {},
   "outputs": [],
   "source": []
  }
 ],
 "metadata": {
  "kernelspec": {
   "display_name": "Python 3",
   "language": "python",
   "name": "python3"
  },
  "language_info": {
   "codemirror_mode": {
    "name": "ipython",
    "version": 3
   },
   "file_extension": ".py",
   "mimetype": "text/x-python",
   "name": "python",
   "nbconvert_exporter": "python",
   "pygments_lexer": "ipython3",
   "version": "3.7.3"
  }
 },
 "nbformat": 4,
 "nbformat_minor": 2
}
